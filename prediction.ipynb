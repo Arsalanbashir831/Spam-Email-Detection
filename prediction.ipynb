{
 "cells": [
  {
   "attachments": {},
   "cell_type": "markdown",
   "metadata": {},
   "source": [
    "## Spam Mail Detection\n",
    "\n",
    "Dataset :\n",
    "\n",
    "\n",
    "Kaggle (https://www.kaggle.com/datasets/shantanudhakadd/email-spam-detection-dataset-classification)\n",
    "\n",
    "\n",
    "kaggle : (https://www.kaggle.com/datasets/yashpaloswal/spamham-email-classification-nlp)"
   ]
  },
  {
   "attachments": {},
   "cell_type": "markdown",
   "metadata": {},
   "source": [
    "### Problem Type:\n",
    "Binary Classification Problem \n",
    "\n",
    "\n",
    "### Goal to Achieve : \n",
    "is the mail spam or ham\n",
    "\n",
    "\n",
    "### Algorithms for Binary Classification Problems :\n",
    "\n",
    "### Train Test Approach\n",
    "\n",
    "1-Naive Bayes         \n",
    "\n",
    "2-Support Vector Machines (SVM)       \n",
    "\n",
    "3-Logistic Regression             \n",
    "\n",
    "4-Random Forest                        \n",
    "\n",
    "5-Gradient Boosting Machines (e.g., XGBoost, LightGBM)        \n",
    "\n",
    "6-Decision Trees  \n",
    "\n",
    "7-K-Nearest Neighbors (KNN)   \n",
    "\n",
    "8-Neural Networks (e.g., Multi-Layer Perceptron) \n",
    "\n",
    "9-AdaBoost \n",
    "\n",
    "10-Preceptron \n",
    "\n"
   ]
  },
  {
   "attachments": {},
   "cell_type": "markdown",
   "metadata": {},
   "source": [
    "# Importing "
   ]
  },
  {
   "cell_type": "code",
   "execution_count": 54,
   "metadata": {},
   "outputs": [],
   "source": [
    "import pandas as pd\n",
    "from sklearn.model_selection import train_test_split\n",
    "from sklearn.feature_extraction.text import TfidfVectorizer\n",
    "from sklearn.preprocessing import LabelEncoder\n",
    "from sklearn.naive_bayes import MultinomialNB\n",
    "from sklearn.svm import SVC\n",
    "from sklearn.linear_model import LogisticRegression\n",
    "from sklearn.ensemble import RandomForestClassifier\n",
    "from sklearn.ensemble import GradientBoostingClassifier\n",
    "from sklearn.tree import DecisionTreeClassifier\n",
    "from sklearn.neighbors import KNeighborsClassifier\n",
    "from sklearn.neural_network import MLPClassifier\n",
    "from sklearn.ensemble import AdaBoostClassifier\n",
    "from sklearn.linear_model import Perceptron\n",
    "from sklearn.metrics import  f1_score,accuracy_score,precision_score,recall_score,confusion_matrix,make_scorer\n",
    "from sklearn.model_selection import KFold\n",
    "import matplotlib.pyplot as plt\n",
    "import seaborn as sns\n",
    "from sklearn.model_selection import cross_validate\n",
    "\n",
    "\n"
   ]
  },
  {
   "attachments": {},
   "cell_type": "markdown",
   "metadata": {},
   "source": [
    "Data Collection and Preprocessing "
   ]
  },
  {
   "cell_type": "code",
   "execution_count": 55,
   "metadata": {},
   "outputs": [
    {
     "data": {
      "text/plain": [
       "(4444, 2)"
      ]
     },
     "execution_count": 55,
     "metadata": {},
     "output_type": "execute_result"
    }
   ],
   "source": [
    "\n",
    "\n",
    "df2 = pd.read_csv('./emails.csv')\n",
    "df2 = df2.rename(columns={'Text': 'Message', 'Spam': 'Category'})\n",
    "# Swap the positions of the second and first columns\n",
    "df2 = df2.iloc[:, [1, 0] + list(range(2, len(df2.columns)))]\n",
    "# Remove characters before ':' in the message\n",
    "df2['Message'] = df2['Message'].str.replace(r'.*:', '', regex=True)\n",
    "\n",
    "\n",
    "df2.drop_duplicates(inplace=True)\n",
    "df2.shape\n",
    "\n"
   ]
  },
  {
   "cell_type": "code",
   "execution_count": 56,
   "metadata": {},
   "outputs": [
    {
     "data": {
      "text/html": [
       "<div>\n",
       "<style scoped>\n",
       "    .dataframe tbody tr th:only-of-type {\n",
       "        vertical-align: middle;\n",
       "    }\n",
       "\n",
       "    .dataframe tbody tr th {\n",
       "        vertical-align: top;\n",
       "    }\n",
       "\n",
       "    .dataframe thead th {\n",
       "        text-align: right;\n",
       "    }\n",
       "</style>\n",
       "<table border=\"1\" class=\"dataframe\">\n",
       "  <thead>\n",
       "    <tr style=\"text-align: right;\">\n",
       "      <th></th>\n",
       "      <th>Category</th>\n",
       "      <th>Message</th>\n",
       "    </tr>\n",
       "  </thead>\n",
       "  <tbody>\n",
       "    <tr>\n",
       "      <th>0</th>\n",
       "      <td>ham</td>\n",
       "      <td>Go until jurong point, crazy.. Available only ...</td>\n",
       "    </tr>\n",
       "    <tr>\n",
       "      <th>1</th>\n",
       "      <td>ham</td>\n",
       "      <td>Ok lar... Joking wif u oni...</td>\n",
       "    </tr>\n",
       "    <tr>\n",
       "      <th>2</th>\n",
       "      <td>spam</td>\n",
       "      <td>Free entry in 2 a wkly comp to win FA Cup fina...</td>\n",
       "    </tr>\n",
       "    <tr>\n",
       "      <th>3</th>\n",
       "      <td>ham</td>\n",
       "      <td>U dun say so early hor... U c already then say...</td>\n",
       "    </tr>\n",
       "    <tr>\n",
       "      <th>4</th>\n",
       "      <td>ham</td>\n",
       "      <td>Nah I don't think he goes to usf, he lives aro...</td>\n",
       "    </tr>\n",
       "    <tr>\n",
       "      <th>...</th>\n",
       "      <td>...</td>\n",
       "      <td>...</td>\n",
       "    </tr>\n",
       "    <tr>\n",
       "      <th>5567</th>\n",
       "      <td>spam</td>\n",
       "      <td>This is the 2nd time we have tried 2 contact u...</td>\n",
       "    </tr>\n",
       "    <tr>\n",
       "      <th>5568</th>\n",
       "      <td>ham</td>\n",
       "      <td>Will ü b going to esplanade fr home?</td>\n",
       "    </tr>\n",
       "    <tr>\n",
       "      <th>5569</th>\n",
       "      <td>ham</td>\n",
       "      <td>Pity, * was in mood for that. So...any other s...</td>\n",
       "    </tr>\n",
       "    <tr>\n",
       "      <th>5570</th>\n",
       "      <td>ham</td>\n",
       "      <td>The guy did some bitching but I acted like i'd...</td>\n",
       "    </tr>\n",
       "    <tr>\n",
       "      <th>5571</th>\n",
       "      <td>ham</td>\n",
       "      <td>Rofl. Its true to its name</td>\n",
       "    </tr>\n",
       "  </tbody>\n",
       "</table>\n",
       "<p>5572 rows × 2 columns</p>\n",
       "</div>"
      ],
      "text/plain": [
       "     Category                                            Message\n",
       "0         ham  Go until jurong point, crazy.. Available only ...\n",
       "1         ham                      Ok lar... Joking wif u oni...\n",
       "2        spam  Free entry in 2 a wkly comp to win FA Cup fina...\n",
       "3         ham  U dun say so early hor... U c already then say...\n",
       "4         ham  Nah I don't think he goes to usf, he lives aro...\n",
       "...       ...                                                ...\n",
       "5567     spam  This is the 2nd time we have tried 2 contact u...\n",
       "5568      ham               Will ü b going to esplanade fr home?\n",
       "5569      ham  Pity, * was in mood for that. So...any other s...\n",
       "5570      ham  The guy did some bitching but I acted like i'd...\n",
       "5571      ham                         Rofl. Its true to its name\n",
       "\n",
       "[5572 rows x 2 columns]"
      ]
     },
     "execution_count": 56,
     "metadata": {},
     "output_type": "execute_result"
    }
   ],
   "source": [
    "# reading the data from csv \n",
    "df = pd.read_csv('./mail_data.csv')\n",
    "df\n",
    "\n",
    "\n",
    "\n"
   ]
  },
  {
   "cell_type": "code",
   "execution_count": 57,
   "metadata": {},
   "outputs": [
    {
     "data": {
      "text/html": [
       "<div>\n",
       "<style scoped>\n",
       "    .dataframe tbody tr th:only-of-type {\n",
       "        vertical-align: middle;\n",
       "    }\n",
       "\n",
       "    .dataframe tbody tr th {\n",
       "        vertical-align: top;\n",
       "    }\n",
       "\n",
       "    .dataframe thead th {\n",
       "        text-align: right;\n",
       "    }\n",
       "</style>\n",
       "<table border=\"1\" class=\"dataframe\">\n",
       "  <thead>\n",
       "    <tr style=\"text-align: right;\">\n",
       "      <th></th>\n",
       "      <th>Category</th>\n",
       "      <th>Message</th>\n",
       "    </tr>\n",
       "  </thead>\n",
       "  <tbody>\n",
       "    <tr>\n",
       "      <th>count</th>\n",
       "      <td>5572</td>\n",
       "      <td>5572</td>\n",
       "    </tr>\n",
       "    <tr>\n",
       "      <th>unique</th>\n",
       "      <td>2</td>\n",
       "      <td>5157</td>\n",
       "    </tr>\n",
       "    <tr>\n",
       "      <th>top</th>\n",
       "      <td>ham</td>\n",
       "      <td>Sorry, I'll call later</td>\n",
       "    </tr>\n",
       "    <tr>\n",
       "      <th>freq</th>\n",
       "      <td>4825</td>\n",
       "      <td>30</td>\n",
       "    </tr>\n",
       "  </tbody>\n",
       "</table>\n",
       "</div>"
      ],
      "text/plain": [
       "       Category                 Message\n",
       "count      5572                    5572\n",
       "unique        2                    5157\n",
       "top         ham  Sorry, I'll call later\n",
       "freq       4825                      30"
      ]
     },
     "execution_count": 57,
     "metadata": {},
     "output_type": "execute_result"
    }
   ],
   "source": [
    "df.describe()"
   ]
  },
  {
   "cell_type": "code",
   "execution_count": 58,
   "metadata": {},
   "outputs": [
    {
     "data": {
      "text/plain": [
       "ham     4825\n",
       "spam     747\n",
       "Name: Category, dtype: int64"
      ]
     },
     "execution_count": 58,
     "metadata": {},
     "output_type": "execute_result"
    }
   ],
   "source": [
    "df['Category'].value_counts()"
   ]
  },
  {
   "attachments": {},
   "cell_type": "markdown",
   "metadata": {},
   "source": [
    "Unbalance Dataset"
   ]
  },
  {
   "cell_type": "code",
   "execution_count": 59,
   "metadata": {},
   "outputs": [],
   "source": [
    "dfle = LabelEncoder()\n",
    "df['Category'] = dfle.fit_transform(df['Category'])\n",
    "\n",
    "# ham -> 0 , spam -> 1"
   ]
  },
  {
   "cell_type": "code",
   "execution_count": 60,
   "metadata": {},
   "outputs": [
    {
     "data": {
      "text/plain": [
       "Category    0\n",
       "Message     0\n",
       "dtype: int64"
      ]
     },
     "execution_count": 60,
     "metadata": {},
     "output_type": "execute_result"
    }
   ],
   "source": [
    "# counting the total null in dataset\n",
    "null_counts = df.isnull().sum()\n",
    "null_counts"
   ]
  },
  {
   "cell_type": "code",
   "execution_count": 61,
   "metadata": {},
   "outputs": [
    {
     "data": {
      "text/plain": [
       "(5157, 2)"
      ]
     },
     "execution_count": 61,
     "metadata": {},
     "output_type": "execute_result"
    }
   ],
   "source": [
    "df.drop_duplicates(inplace=True)\n",
    "df.shape"
   ]
  },
  {
   "cell_type": "code",
   "execution_count": 62,
   "metadata": {},
   "outputs": [
    {
     "data": {
      "text/plain": [
       "(9601, 2)"
      ]
     },
     "execution_count": 62,
     "metadata": {},
     "output_type": "execute_result"
    }
   ],
   "source": [
    "result=pd.concat([df,df2], ignore_index=True)\n",
    "result.to_csv('MergeEmailDataset.csv',index=False)\n",
    "result.shape\n"
   ]
  },
  {
   "cell_type": "code",
   "execution_count": 63,
   "metadata": {},
   "outputs": [
    {
     "data": {
      "image/png": "[encoded data removed]",
      "text/plain": [
       "<Figure size 800x600 with 1 Axes>"
      ]
     },
     "metadata": {},
     "output_type": "display_data"
    }
   ],
   "source": [
    "\n",
    "# Count the number of messages in each category\n",
    "category_counts = result['Category'].value_counts()\n",
    "\n",
    "# Create the histogram plot\n",
    "plt.figure(figsize=(8, 6))\n",
    "plt.bar(category_counts.index, category_counts.values, color=['green', 'red'])\n",
    "plt.xlabel('Category')\n",
    "plt.ylabel('Messages')\n",
    "plt.xticks(category_counts.index, ['Ham', 'Spam'])\n",
    "plt.title('Histogram of Categories')\n",
    "plt.show()\n"
   ]
  },
  {
   "cell_type": "code",
   "execution_count": 64,
   "metadata": {},
   "outputs": [
    {
     "data": {
      "text/plain": [
       "0    7789\n",
       "1    1812\n",
       "Name: Category, dtype: int64"
      ]
     },
     "execution_count": 64,
     "metadata": {},
     "output_type": "execute_result"
    }
   ],
   "source": [
    "result['Category'].value_counts()"
   ]
  },
  {
   "cell_type": "code",
   "execution_count": 65,
   "metadata": {},
   "outputs": [],
   "source": [
    "\n",
    "# Separate instances for each class\n",
    "class_0 = result[result['Category']==0]\n",
    "class_1 = result[result['Category']==1]\n",
    "\n",
    "# Randomly sample 8500 instances from class 0\n",
    "class_0_sampled = class_0.sample(n=2000, random_state=42)\n",
    "\n",
    "# Combine the sampled instances with all instances of class 1\n",
    "balanced_df = pd.concat([class_0_sampled, class_1])\n",
    "\n",
    "# Shuffle the rows in the DataFrame\n",
    "balanced_df = balanced_df.sample(frac=1, random_state=42)\n",
    "\n",
    "# Save the balanced DataFrame to a new CSV file\n",
    "balanced_df.to_csv('balanced_dataset.csv', index=False)\n"
   ]
  },
  {
   "cell_type": "code",
   "execution_count": 66,
   "metadata": {},
   "outputs": [
    {
     "data": {
      "text/plain": [
       "0    2000\n",
       "1    1812\n",
       "Name: Category, dtype: int64"
      ]
     },
     "execution_count": 66,
     "metadata": {},
     "output_type": "execute_result"
    }
   ],
   "source": [
    "balanced_df['Category'].value_counts()"
   ]
  },
  {
   "cell_type": "code",
   "execution_count": 67,
   "metadata": {},
   "outputs": [
    {
     "data": {
      "image/png": "[encoded data removed]",
      "text/plain": [
       "<Figure size 800x600 with 1 Axes>"
      ]
     },
     "metadata": {},
     "output_type": "display_data"
    }
   ],
   "source": [
    "\n",
    "# Count the number of messages in each category\n",
    "category_counts = balanced_df['Category'].value_counts()\n",
    "\n",
    "# Create the histogram plot\n",
    "plt.figure(figsize=(8, 6))\n",
    "plt.bar(category_counts.index, category_counts.values, color=['green', 'red'])\n",
    "plt.xlabel('Category')\n",
    "plt.ylabel('Messages')\n",
    "plt.xticks(category_counts.index, ['Ham', 'Spam'])\n",
    "plt.title('Histogram of Categories')\n",
    "plt.show()\n"
   ]
  },
  {
   "attachments": {},
   "cell_type": "markdown",
   "metadata": {},
   "source": [
    "Totally Unbalance Dataset"
   ]
  },
  {
   "cell_type": "code",
   "execution_count": 68,
   "metadata": {},
   "outputs": [],
   "source": [
    "# seperating the data as test and label \n",
    "\n",
    "x = balanced_df['Message']\n",
    "y = balanced_df['Category']\n",
    "\n"
   ]
  },
  {
   "cell_type": "code",
   "execution_count": 69,
   "metadata": {},
   "outputs": [
    {
     "name": "stdout",
     "output_type": "stream",
     "text": [
      "5495     / / www . retdehola . com / ss /  the biggest...\n",
      "4085    Do you want a new Video handset? 750 any time ...\n",
      "6695      the research group will have 5 rice students...\n",
      "6000     1  soft viagra at $ 1 . 62 per dose  ready to...\n",
      "8196     var article  les ,  the revised version of th...\n",
      "                              ...                        \n",
      "2721    Ok that would b lovely, if u r sure. Think abo...\n",
      "8490                             > test  >  > vince  >  >\n",
      "7817     work at enron  hi , vince  i just wanted to t...\n",
      "6023     learn to build simple and clean websites that...\n",
      "5690                                                   55\n",
      "Name: Message, Length: 3812, dtype: object\n"
     ]
    }
   ],
   "source": [
    "print(x)"
   ]
  },
  {
   "cell_type": "code",
   "execution_count": 70,
   "metadata": {},
   "outputs": [
    {
     "name": "stdout",
     "output_type": "stream",
     "text": [
      "5495    1\n",
      "4085    1\n",
      "6695    0\n",
      "6000    1\n",
      "8196    0\n",
      "       ..\n",
      "2721    0\n",
      "8490    0\n",
      "7817    0\n",
      "6023    1\n",
      "5690    1\n",
      "Name: Category, Length: 3812, dtype: int64\n"
     ]
    }
   ],
   "source": [
    "print(y)"
   ]
  },
  {
   "attachments": {},
   "cell_type": "markdown",
   "metadata": {},
   "source": [
    "# Train Test Split  Approach"
   ]
  },
  {
   "cell_type": "code",
   "execution_count": 71,
   "metadata": {},
   "outputs": [],
   "source": [
    "x_train , x_test , y_train , y_test = train_test_split(x,y,test_size=0.33,random_state=3,shuffle=True)\n"
   ]
  },
  {
   "cell_type": "code",
   "execution_count": 72,
   "metadata": {},
   "outputs": [
    {
     "name": "stdout",
     "output_type": "stream",
     "text": [
      "(3812,)\n",
      "(2554,)\n",
      "(1258,)\n"
     ]
    }
   ],
   "source": [
    "print(x.shape)\n",
    "print(x_train.shape)\n",
    "print(x_test.shape)"
   ]
  },
  {
   "attachments": {},
   "cell_type": "markdown",
   "metadata": {},
   "source": [
    "## Feature Extraction "
   ]
  },
  {
   "cell_type": "code",
   "execution_count": 73,
   "metadata": {},
   "outputs": [
    {
     "name": "stdout",
     "output_type": "stream",
     "text": [
      "  (0, 8003)\t0.16247373486075697\n",
      "  (0, 12469)\t0.17263369463762235\n",
      "  (0, 10973)\t0.17109014623622162\n",
      "  (0, 11012)\t0.13982947983947425\n",
      "  (0, 10974)\t0.17185314952036132\n",
      "  (0, 261)\t0.27680089442887856\n",
      "  (0, 1045)\t0.2630344549906858\n",
      "  (0, 503)\t0.27680089442887856\n",
      "  (0, 3527)\t0.27680089442887856\n",
      "  (0, 12236)\t0.27680089442887856\n",
      "  (0, 14173)\t0.1253691023159815\n",
      "  (0, 13714)\t0.15707313579172422\n",
      "  (0, 1494)\t0.21892091684295428\n",
      "  (0, 4152)\t0.21892091684295428\n",
      "  (0, 10971)\t0.27680089442887856\n",
      "  (0, 11658)\t0.24569079243520006\n",
      "  (0, 12235)\t0.27680089442887856\n",
      "  (0, 8632)\t0.24569079243520006\n",
      "  (0, 5916)\t0.12421152824546293\n",
      "  (0, 6484)\t0.25326701076758207\n",
      "  (1, 7548)\t0.23553714238446533\n",
      "  (1, 13684)\t0.17735015310261262\n",
      "  (1, 12454)\t0.31514539084448756\n",
      "  (1, 7268)\t0.2746187716997932\n",
      "  (1, 5164)\t0.17640187147254927\n",
      "  :\t:\n",
      "  (2549, 10738)\t0.1602651515277321\n",
      "  (2549, 8315)\t0.1618282221703198\n",
      "  (2549, 13874)\t0.13917477795461528\n",
      "  (2549, 8808)\t0.1345143333468444\n",
      "  (2549, 11462)\t0.14206329940291726\n",
      "  (2549, 9408)\t0.17233125782841896\n",
      "  (2549, 6563)\t0.1602651515277321\n",
      "  (2549, 7979)\t0.1228928234429383\n",
      "  (2550, 14168)\t0.3826134153053946\n",
      "  (2550, 9104)\t0.3635844868732461\n",
      "  (2550, 7885)\t0.3500832472883181\n",
      "  (2550, 9568)\t0.3120253904240212\n",
      "  (2550, 6673)\t0.20396251135668853\n",
      "  (2550, 4865)\t0.5445215191502911\n",
      "  (2550, 13814)\t0.3026076915246129\n",
      "  (2550, 8675)\t0.2679913528562813\n",
      "  (2551, 3492)\t0.7094273155996692\n",
      "  (2551, 8132)\t0.7047786062878524\n",
      "  (2552, 8543)\t0.7589805096567492\n",
      "  (2552, 6673)\t0.4676077670734939\n",
      "  (2552, 14108)\t0.45309111901881555\n",
      "  (2553, 12093)\t0.5277779710812018\n",
      "  (2553, 7791)\t0.5536668931586849\n",
      "  (2553, 8060)\t0.42009857539245166\n",
      "  (2553, 8534)\t0.4882832903291409\n"
     ]
    }
   ],
   "source": [
    "feature_extraction = TfidfVectorizer(min_df=1,stop_words='english',lowercase='True')\n",
    "\n",
    "X_train_feature = feature_extraction.fit_transform(x_train)\n",
    "X_test_feature = feature_extraction.transform(x_test)\n",
    "\n",
    "print(X_train_feature)\n"
   ]
  },
  {
   "attachments": {},
   "cell_type": "markdown",
   "metadata": {},
   "source": [
    "## Logistic Regression Algorithm\n",
    " "
   ]
  },
  {
   "cell_type": "code",
   "execution_count": 74,
   "metadata": {},
   "outputs": [
    {
     "data": {
      "text/plain": [
       "LogisticRegression()"
      ]
     },
     "execution_count": 74,
     "metadata": {},
     "output_type": "execute_result"
    }
   ],
   "source": [
    "logReg= LogisticRegression()\n",
    "logReg.fit(X_train_feature,y_train)"
   ]
  },
  {
   "attachments": {},
   "cell_type": "markdown",
   "metadata": {},
   "source": [
    "Prediction on train Data (Logistic Regression)"
   ]
  },
  {
   "cell_type": "code",
   "execution_count": 75,
   "metadata": {},
   "outputs": [
    {
     "name": "stdout",
     "output_type": "stream",
     "text": [
      "F1: 0.9788994621431527\n",
      "Accuracy: 0.9800313234142521\n",
      "Precision: 0.9858333333333333\n",
      "Recall: 0.9720624486442071\n"
     ]
    }
   ],
   "source": [
    "prediction_lr = logReg.predict(X_train_feature)\n",
    "\n",
    "scores = {\n",
    "    \"F1\": f1_score(y_train,prediction_lr),\n",
    "    \"Accuracy\": accuracy_score(y_train,prediction_lr),\n",
    "    \"Precision\": precision_score(y_train,prediction_lr),\n",
    "    \"Recall\": recall_score(y_train,prediction_lr)\n",
    "}\n",
    "# Print the evaluation scores\n",
    "for metric, score in scores.items():\n",
    "    print(f\"{metric}: {score}\")"
   ]
  },
  {
   "attachments": {},
   "cell_type": "markdown",
   "metadata": {},
   "source": [
    "Prediction on Test Data (Logistic Regression)"
   ]
  },
  {
   "cell_type": "code",
   "execution_count": 76,
   "metadata": {},
   "outputs": [
    {
     "name": "stdout",
     "output_type": "stream",
     "text": [
      "F1: 0.9190600522193211\n",
      "Accuracy: 0.9260731319554849\n",
      "Precision: 0.9530685920577617\n",
      "Recall: 0.8873949579831932\n"
     ]
    }
   ],
   "source": [
    "prediction_lr_test = logReg.predict(X_test_feature)\n",
    "\n",
    "scores = {\n",
    "    \"F1\": f1_score(y_test,prediction_lr_test),\n",
    "    \"Accuracy\": accuracy_score(y_test,prediction_lr_test),\n",
    "    \"Precision\": precision_score(y_test,prediction_lr_test),\n",
    "    \"Recall\": recall_score(y_test,prediction_lr_test)\n",
    "}\n",
    "# Print the evaluation scores\n",
    "for metric, score in scores.items():\n",
    "    print(f\"{metric}: {score}\")\n"
   ]
  },
  {
   "attachments": {},
   "cell_type": "markdown",
   "metadata": {},
   "source": [
    "## Naive Bayes Algorithm\n"
   ]
  },
  {
   "cell_type": "code",
   "execution_count": 77,
   "metadata": {},
   "outputs": [],
   "source": [
    "nb_model = MultinomialNB().fit(X_train_feature,y_train)"
   ]
  },
  {
   "attachments": {},
   "cell_type": "markdown",
   "metadata": {},
   "source": [
    "Prediction on Test Data (Naive Bayes)"
   ]
  },
  {
   "cell_type": "code",
   "execution_count": 78,
   "metadata": {},
   "outputs": [
    {
     "name": "stdout",
     "output_type": "stream",
     "text": [
      "F1: 0.9275362318840579\n",
      "Accuracy: 0.9324324324324325\n",
      "Precision: 0.9411764705882353\n",
      "Recall: 0.9142857142857143\n"
     ]
    }
   ],
   "source": [
    "prediction_nb_test=nb_model.predict(X_test_feature)\n",
    "\n",
    "scores = {\n",
    "    \"F1\": f1_score(y_test,prediction_nb_test),\n",
    "    \"Accuracy\": accuracy_score(y_test,prediction_nb_test),\n",
    "    \"Precision\": precision_score(y_test,prediction_nb_test),\n",
    "    \"Recall\": recall_score(y_test,prediction_nb_test)\n",
    "}\n",
    "# Print the evaluation scores\n",
    "for metric, score in scores.items():\n",
    "    print(f\"{metric}: {score}\")\n"
   ]
  },
  {
   "attachments": {},
   "cell_type": "markdown",
   "metadata": {},
   "source": [
    "Prediction on Train Data (Naive Bayes)"
   ]
  },
  {
   "cell_type": "code",
   "execution_count": 79,
   "metadata": {},
   "outputs": [
    {
     "name": "stdout",
     "output_type": "stream",
     "text": [
      "F1: 0.9864364981504316\n",
      "Accuracy: 0.9870790916209867\n",
      "Precision: 0.9868421052631579\n",
      "Recall: 0.9860312243221035\n"
     ]
    }
   ],
   "source": [
    "prediction_nb_train=nb_model.predict(X_train_feature)\n",
    "\n",
    "scores = {\n",
    "    \"F1\": f1_score(y_train, prediction_nb_train),\n",
    "    \"Accuracy\": accuracy_score(y_train, prediction_nb_train),\n",
    "    \"Precision\": precision_score(y_train, prediction_nb_train),\n",
    "    \"Recall\": recall_score(y_train, prediction_nb_train)\n",
    "}\n",
    "# Print the evaluation scores\n",
    "for metric, score in scores.items():\n",
    "    print(f\"{metric}: {score}\")"
   ]
  },
  {
   "attachments": {},
   "cell_type": "markdown",
   "metadata": {},
   "source": [
    "## Support Vector Model Algorithm "
   ]
  },
  {
   "cell_type": "code",
   "execution_count": 80,
   "metadata": {},
   "outputs": [
    {
     "data": {
      "text/plain": [
       "SVC()"
      ]
     },
     "execution_count": 80,
     "metadata": {},
     "output_type": "execute_result"
    }
   ],
   "source": [
    "svm_model = SVC().fit(X_train_feature,y_train)\n",
    "svm_model"
   ]
  },
  {
   "attachments": {},
   "cell_type": "markdown",
   "metadata": {},
   "source": [
    "#### Prediction in Train Data (SVM)"
   ]
  },
  {
   "cell_type": "code",
   "execution_count": 81,
   "metadata": {},
   "outputs": [
    {
     "name": "stdout",
     "output_type": "stream",
     "text": [
      "F1: 0.9979482970865818\n",
      "Accuracy: 0.9980422866092404\n",
      "Precision: 0.9967213114754099\n",
      "Recall: 0.9991783073130649\n"
     ]
    }
   ],
   "source": [
    "# Make predictions on the test data using your SVM model\n",
    "prediction_svm_train = svm_model.predict(X_train_feature)\n",
    "# Calculate evaluation scores\n",
    "scores = {\n",
    "    \"F1\": f1_score(y_train, prediction_svm_train),\n",
    "    \"Accuracy\": accuracy_score(y_train, prediction_svm_train),\n",
    "    \"Precision\": precision_score(y_train, prediction_svm_train),\n",
    "    \"Recall\": recall_score(y_train, prediction_svm_train)\n",
    "}\n",
    "# Print the evaluation scores\n",
    "for metric, score in scores.items():\n",
    "    print(f\"{metric}: {score}\")"
   ]
  },
  {
   "attachments": {},
   "cell_type": "markdown",
   "metadata": {},
   "source": [
    "#### Prediction in Test Data (SVM)"
   ]
  },
  {
   "cell_type": "code",
   "execution_count": 82,
   "metadata": {},
   "outputs": [
    {
     "name": "stdout",
     "output_type": "stream",
     "text": [
      "F1: 0.9185441941074524\n",
      "Accuracy: 0.9252782193958664\n",
      "Precision: 0.9481216457960644\n",
      "Recall: 0.8907563025210085\n"
     ]
    }
   ],
   "source": [
    "prediction_svm_test = svm_model.predict(X_test_feature)\n",
    "\n",
    "scores = {\n",
    "    \"F1\": f1_score(y_test, prediction_svm_test),\n",
    "    \"Accuracy\": accuracy_score(y_test, prediction_svm_test),\n",
    "    \"Precision\": precision_score(y_test, prediction_svm_test),\n",
    "    \"Recall\": recall_score(y_test, prediction_svm_test)\n",
    "}\n",
    "# Print the evaluation scores\n",
    "for metric, score in scores.items():\n",
    "    print(f\"{metric}: {score}\")"
   ]
  },
  {
   "attachments": {},
   "cell_type": "markdown",
   "metadata": {},
   "source": [
    "## Random Forest Algorithm"
   ]
  },
  {
   "cell_type": "code",
   "execution_count": 83,
   "metadata": {},
   "outputs": [
    {
     "data": {
      "text/plain": [
       "RandomForestClassifier()"
      ]
     },
     "execution_count": 83,
     "metadata": {},
     "output_type": "execute_result"
    }
   ],
   "source": [
    "\n",
    "rf_model = RandomForestClassifier().fit(X_train_feature,y_train)\n",
    "rf_model"
   ]
  },
  {
   "attachments": {},
   "cell_type": "markdown",
   "metadata": {},
   "source": [
    "Prediction of Train Data Random Forest"
   ]
  },
  {
   "cell_type": "code",
   "execution_count": 84,
   "metadata": {},
   "outputs": [
    {
     "name": "stdout",
     "output_type": "stream",
     "text": [
      "F1: 0.9987689782519491\n",
      "Accuracy: 0.9988253719655442\n",
      "Precision: 0.9975409836065574\n",
      "Recall: 1.0\n"
     ]
    }
   ],
   "source": [
    "\n",
    "# Make predictions on the training data using your Random Forest model\n",
    "prediction_rf_train = rf_model.predict(X_train_feature)\n",
    "# Calculate evaluation scores\n",
    "scores = {\n",
    "    \"F1\": f1_score(y_train, prediction_rf_train),\n",
    "    \"Accuracy\": accuracy_score(y_train, prediction_rf_train),\n",
    "    \"Precision\": precision_score(y_train, prediction_rf_train),\n",
    "    \"Recall\": recall_score(y_train, prediction_rf_train)\n",
    "}\n",
    "# Print the evaluation scores\n",
    "for metric, score in scores.items():\n",
    "    print(f\"{metric}: {score}\")"
   ]
  },
  {
   "attachments": {},
   "cell_type": "markdown",
   "metadata": {},
   "source": [
    "Prediction of Test Data Random Forest"
   ]
  },
  {
   "cell_type": "code",
   "execution_count": 85,
   "metadata": {},
   "outputs": [
    {
     "name": "stdout",
     "output_type": "stream",
     "text": [
      "F1: 0.9192751235584844\n",
      "Accuracy: 0.9220985691573926\n",
      "Precision: 0.901453957996769\n",
      "Recall: 0.9378151260504202\n"
     ]
    }
   ],
   "source": [
    "prediction_rf_test=rf_model.predict(X_test_feature)\n",
    "\n",
    "# Calculate evaluation scores\n",
    "scores = {\n",
    "    \"F1\": f1_score(y_test,prediction_rf_test),\n",
    "    \"Accuracy\": accuracy_score(y_test,prediction_rf_test),\n",
    "    \"Precision\": precision_score(y_test,prediction_rf_test),\n",
    "    \"Recall\": recall_score(y_test,prediction_rf_test)\n",
    "}\n",
    "# Print the evaluation scores\n",
    "for metric, score in scores.items():\n",
    "    print(f\"{metric}: {score}\")\n"
   ]
  },
  {
   "attachments": {},
   "cell_type": "markdown",
   "metadata": {},
   "source": [
    "# Gradient Boosting Machines (e.g., XGBoost, LightGBM) Algorithm"
   ]
  },
  {
   "cell_type": "code",
   "execution_count": 86,
   "metadata": {},
   "outputs": [
    {
     "data": {
      "text/plain": [
       "GradientBoostingClassifier()"
      ]
     },
     "execution_count": 86,
     "metadata": {},
     "output_type": "execute_result"
    }
   ],
   "source": [
    "gbm_model = GradientBoostingClassifier().fit(X_train_feature,y_train)\n",
    "gbm_model"
   ]
  },
  {
   "attachments": {},
   "cell_type": "markdown",
   "metadata": {},
   "source": [
    "Prediction on Traning Data GBM"
   ]
  },
  {
   "cell_type": "code",
   "execution_count": 87,
   "metadata": {},
   "outputs": [
    {
     "name": "stdout",
     "output_type": "stream",
     "text": [
      "F1: 0.8928255093002657\n",
      "Accuracy: 0.9052466718872357\n",
      "Precision: 0.968299711815562\n",
      "Recall: 0.828266228430567\n"
     ]
    }
   ],
   "source": [
    "prediction_gbm_train = gbm_model.predict(X_train_feature)\n",
    "# Calculate evaluation scores\n",
    "scores = {\n",
    "    \"F1\": f1_score(y_train,prediction_gbm_train),\n",
    "    \"Accuracy\": accuracy_score(y_train,prediction_gbm_train),\n",
    "    \"Precision\": precision_score(y_train,prediction_gbm_train),\n",
    "    \"Recall\": recall_score(y_train,prediction_gbm_train)\n",
    "}\n",
    "# Print the evaluation scores\n",
    "for metric, score in scores.items():\n",
    "    print(f\"{metric}: {score}\")"
   ]
  },
  {
   "attachments": {},
   "cell_type": "markdown",
   "metadata": {},
   "source": [
    "Prediction on testing data GBM"
   ]
  },
  {
   "cell_type": "code",
   "execution_count": 88,
   "metadata": {},
   "outputs": [
    {
     "name": "stdout",
     "output_type": "stream",
     "text": [
      "F1: 0.8558394160583942\n",
      "Accuracy: 0.8744038155802861\n",
      "Precision: 0.936127744510978\n",
      "Recall: 0.788235294117647\n"
     ]
    }
   ],
   "source": [
    "prediction_gbm_test = gbm_model.predict(X_test_feature)\n",
    "\n",
    "scores = {\n",
    "    \"F1\": f1_score(y_test,prediction_gbm_test),\n",
    "    \"Accuracy\": accuracy_score(y_test,prediction_gbm_test),\n",
    "    \"Precision\": precision_score(y_test,prediction_gbm_test),\n",
    "    \"Recall\": recall_score(y_test,prediction_gbm_test)\n",
    "}\n",
    "# Print the evaluation scores\n",
    "for metric, score in scores.items():\n",
    "    print(f\"{metric}: {score}\")"
   ]
  },
  {
   "attachments": {},
   "cell_type": "markdown",
   "metadata": {},
   "source": [
    "## Decision Tree Algorithm"
   ]
  },
  {
   "cell_type": "code",
   "execution_count": 89,
   "metadata": {},
   "outputs": [
    {
     "data": {
      "text/plain": [
       "DecisionTreeClassifier()"
      ]
     },
     "execution_count": 89,
     "metadata": {},
     "output_type": "execute_result"
    }
   ],
   "source": [
    "dt_model = DecisionTreeClassifier().fit(X_train_feature,y_train)\n",
    "dt_model\n"
   ]
  },
  {
   "attachments": {},
   "cell_type": "markdown",
   "metadata": {},
   "source": [
    "Prediction on Traning Data Decision Tree"
   ]
  },
  {
   "cell_type": "code",
   "execution_count": 90,
   "metadata": {},
   "outputs": [
    {
     "name": "stdout",
     "output_type": "stream",
     "text": [
      "F1: 0.9987689782519491\n",
      "Accuracy: 0.9988253719655442\n",
      "Precision: 0.9975409836065574\n",
      "Recall: 1.0\n"
     ]
    }
   ],
   "source": [
    "prediction_dt_train = dt_model.predict(X_train_feature)\n",
    "\n",
    "scores = {\n",
    "    \"F1\": f1_score(y_train,prediction_dt_train),\n",
    "    \"Accuracy\": accuracy_score(y_train,prediction_dt_train),\n",
    "    \"Precision\": precision_score(y_train,prediction_dt_train),\n",
    "    \"Recall\": recall_score(y_train,prediction_dt_train)\n",
    "}\n",
    "# Print the evaluation scores\n",
    "for metric, score in scores.items():\n",
    "    print(f\"{metric}: {score}\")"
   ]
  },
  {
   "attachments": {},
   "cell_type": "markdown",
   "metadata": {},
   "source": [
    "Prediction on Testing Data Decision Tree"
   ]
  },
  {
   "cell_type": "code",
   "execution_count": 91,
   "metadata": {},
   "outputs": [
    {
     "name": "stdout",
     "output_type": "stream",
     "text": [
      "F1: 0.8470031545741326\n",
      "Accuracy: 0.8457869634340223\n",
      "Precision: 0.7979197622585439\n",
      "Recall: 0.9025210084033614\n"
     ]
    }
   ],
   "source": [
    "prediction_dt_test = dt_model.predict(X_test_feature)\n",
    "\n",
    "scores = {\n",
    "    \"F1\": f1_score(y_test,prediction_dt_test),\n",
    "    \"Accuracy\": accuracy_score(y_test,prediction_dt_test),\n",
    "    \"Precision\": precision_score(y_test,prediction_dt_test),\n",
    "    \"Recall\": recall_score(y_test,prediction_dt_test)\n",
    "}\n",
    "# Print the evaluation scores\n",
    "for metric, score in scores.items():\n",
    "    print(f\"{metric}: {score}\")"
   ]
  },
  {
   "attachments": {},
   "cell_type": "markdown",
   "metadata": {},
   "source": [
    "# KNN Algorithm"
   ]
  },
  {
   "cell_type": "code",
   "execution_count": 92,
   "metadata": {},
   "outputs": [
    {
     "data": {
      "text/plain": [
       "KNeighborsClassifier()"
      ]
     },
     "execution_count": 92,
     "metadata": {},
     "output_type": "execute_result"
    }
   ],
   "source": [
    "knn_model = KNeighborsClassifier().fit(X_train_feature,y_train)\n",
    "knn_model"
   ]
  },
  {
   "attachments": {},
   "cell_type": "markdown",
   "metadata": {},
   "source": [
    "Prediction on Traning Data KNN"
   ]
  },
  {
   "cell_type": "code",
   "execution_count": 93,
   "metadata": {},
   "outputs": [
    {
     "name": "stdout",
     "output_type": "stream",
     "text": [
      "F1: 0.8043243243243242\n",
      "Accuracy: 0.7873923257635083\n",
      "Precision: 0.7163029525032092\n",
      "Recall: 0.9170090386195563\n"
     ]
    }
   ],
   "source": [
    "import warnings\n",
    "# Suppress the future warning\n",
    "warnings.simplefilter(action='ignore', category=FutureWarning)\n",
    "\n",
    "prediction_knn_train = knn_model.predict(X_train_feature)\n",
    "scores = {\n",
    "    \"F1\": f1_score(y_train , prediction_knn_train),\n",
    "    \"Accuracy\": accuracy_score(y_train , prediction_knn_train),\n",
    "    \"Precision\": precision_score(y_train , prediction_knn_train),\n",
    "    \"Recall\": recall_score(y_train , prediction_knn_train)\n",
    "}\n",
    "# Print the evaluation scores\n",
    "for metric, score in scores.items():\n",
    "    print(f\"{metric}: {score}\")"
   ]
  },
  {
   "attachments": {},
   "cell_type": "markdown",
   "metadata": {},
   "source": [
    "Prediction on Testing KNN"
   ]
  },
  {
   "cell_type": "code",
   "execution_count": 94,
   "metadata": {},
   "outputs": [
    {
     "name": "stdout",
     "output_type": "stream",
     "text": [
      "F1: 0.6392156862745098\n",
      "Accuracy: 0.56120826709062\n",
      "Precision: 0.5229946524064171\n",
      "Recall: 0.8218487394957983\n"
     ]
    }
   ],
   "source": [
    "prediction_knn_test = knn_model.predict(X_test_feature)\n",
    "accuracy_knn_test = f1_score(y_test , prediction_knn_test )\n",
    "scores = {\n",
    "    \"F1\": f1_score(y_test , prediction_knn_test ),\n",
    "    \"Accuracy\": accuracy_score(y_test , prediction_knn_test ),\n",
    "    \"Precision\": precision_score(y_test , prediction_knn_test ),\n",
    "    \"Recall\": recall_score(y_test , prediction_knn_test )\n",
    "}\n",
    "# Print the evaluation scores\n",
    "for metric, score in scores.items():\n",
    "    print(f\"{metric}: {score}\")"
   ]
  },
  {
   "attachments": {},
   "cell_type": "markdown",
   "metadata": {},
   "source": [
    "## Neural Network CLassifier Algorithm"
   ]
  },
  {
   "cell_type": "code",
   "execution_count": 95,
   "metadata": {},
   "outputs": [
    {
     "data": {
      "text/plain": [
       "MLPClassifier()"
      ]
     },
     "execution_count": 95,
     "metadata": {},
     "output_type": "execute_result"
    }
   ],
   "source": [
    "nnc_model = MLPClassifier().fit(X_train_feature,y_train)\n",
    "nnc_model"
   ]
  },
  {
   "attachments": {},
   "cell_type": "markdown",
   "metadata": {},
   "source": [
    "Prediction on Traning Data Neuaral Network "
   ]
  },
  {
   "cell_type": "code",
   "execution_count": 96,
   "metadata": {},
   "outputs": [
    {
     "name": "stdout",
     "output_type": "stream",
     "text": [
      "F1: 0.9983539094650207\n",
      "Accuracy: 0.9984338292873923\n",
      "Precision: 1.0\n",
      "Recall: 0.9967132292522597\n"
     ]
    }
   ],
   "source": [
    "prediction_nnc_train = nnc_model.predict(X_train_feature)\n",
    "accuracy_nnc_train = f1_score(y_train,prediction_nnc_train)\n",
    "scores = {\n",
    "    \"F1\": f1_score(y_train,prediction_nnc_train),\n",
    "    \"Accuracy\": accuracy_score(y_train,prediction_nnc_train),\n",
    "    \"Precision\": precision_score(y_train,prediction_nnc_train),\n",
    "    \"Recall\": recall_score(y_train,prediction_nnc_train)\n",
    "}\n",
    "# Print the evaluation scores\n",
    "for metric, score in scores.items():\n",
    "    print(f\"{metric}: {score}\")"
   ]
  },
  {
   "cell_type": "code",
   "execution_count": 97,
   "metadata": {},
   "outputs": [
    {
     "name": "stdout",
     "output_type": "stream",
     "text": [
      "F1: 0.9197952218430033\n",
      "Accuracy: 0.9252782193958664\n",
      "Precision: 0.9341421143847487\n",
      "Recall: 0.9058823529411765\n"
     ]
    }
   ],
   "source": [
    "prediction_nnc_test = nnc_model.predict(X_test_feature)\n",
    "\n",
    "scores = {\n",
    "    \"F1\": f1_score(y_test,prediction_nnc_test),\n",
    "    \"Accuracy\": accuracy_score(y_test,prediction_nnc_test),\n",
    "    \"Precision\": precision_score(y_test,prediction_nnc_test),\n",
    "    \"Recall\": recall_score(y_test,prediction_nnc_test)\n",
    "}\n",
    "# Print the evaluation scores\n",
    "for metric, score in scores.items():\n",
    "    print(f\"{metric}: {score}\")"
   ]
  },
  {
   "attachments": {},
   "cell_type": "markdown",
   "metadata": {},
   "source": [
    "## AdaBoostClassifier Algorithm"
   ]
  },
  {
   "cell_type": "code",
   "execution_count": 98,
   "metadata": {},
   "outputs": [
    {
     "data": {
      "text/plain": [
       "AdaBoostClassifier()"
      ]
     },
     "execution_count": 98,
     "metadata": {},
     "output_type": "execute_result"
    }
   ],
   "source": [
    "abc_model = AdaBoostClassifier().fit(X_train_feature,y_train)\n",
    "abc_model"
   ]
  },
  {
   "attachments": {},
   "cell_type": "markdown",
   "metadata": {},
   "source": [
    "Prediction on Traning Data AdaBoostClassifier Algo"
   ]
  },
  {
   "cell_type": "code",
   "execution_count": 99,
   "metadata": {},
   "outputs": [
    {
     "name": "stdout",
     "output_type": "stream",
     "text": [
      "F1: 0.8909630886720407\n",
      "Accuracy: 0.8993735317149569\n",
      "Precision: 0.9210526315789473\n",
      "Recall: 0.8627773212818406\n"
     ]
    }
   ],
   "source": [
    "prediction_abc_train = abc_model.predict(X_train_feature)\n",
    "scores = {\n",
    "    \"F1\": f1_score(y_train,prediction_abc_train),\n",
    "    \"Accuracy\": accuracy_score(y_train,prediction_abc_train),\n",
    "    \"Precision\": precision_score(y_train,prediction_abc_train),\n",
    "    \"Recall\": recall_score(y_train,prediction_abc_train)\n",
    "}\n",
    "# Print the evaluation scores\n",
    "for metric, score in scores.items():\n",
    "    print(f\"{metric}: {score}\")"
   ]
  },
  {
   "attachments": {},
   "cell_type": "markdown",
   "metadata": {},
   "source": [
    "Prediction on Testing Data AdaBoostClassifier Algo"
   ]
  },
  {
   "cell_type": "code",
   "execution_count": 100,
   "metadata": {},
   "outputs": [
    {
     "name": "stdout",
     "output_type": "stream",
     "text": [
      "F1: 0.87215411558669\n",
      "Accuracy: 0.8839427662957074\n",
      "Precision: 0.9104204753199269\n",
      "Recall: 0.8369747899159664\n"
     ]
    }
   ],
   "source": [
    "prediction_abc_test = abc_model.predict(X_test_feature)\n",
    "scores = {\n",
    "    \"F1\": f1_score(y_test,prediction_abc_test),\n",
    "    \"Accuracy\": accuracy_score(y_test,prediction_abc_test),\n",
    "    \"Precision\": precision_score(y_test,prediction_abc_test),\n",
    "    \"Recall\": recall_score(y_test,prediction_abc_test)\n",
    "}\n",
    "# Print the evaluation scores\n",
    "for metric, score in scores.items():\n",
    "    print(f\"{metric}: {score}\")"
   ]
  },
  {
   "attachments": {},
   "cell_type": "markdown",
   "metadata": {},
   "source": [
    "## Preceptron"
   ]
  },
  {
   "cell_type": "code",
   "execution_count": 101,
   "metadata": {},
   "outputs": [
    {
     "data": {
      "text/plain": [
       "Perceptron()"
      ]
     },
     "execution_count": 101,
     "metadata": {},
     "output_type": "execute_result"
    }
   ],
   "source": [
    "preceptron_model = Perceptron().fit(X_train_feature,y_train)\n",
    "preceptron_model"
   ]
  },
  {
   "attachments": {},
   "cell_type": "markdown",
   "metadata": {},
   "source": [
    "Prediction on Traning Data Preceptron Algo"
   ]
  },
  {
   "cell_type": "code",
   "execution_count": 102,
   "metadata": {},
   "outputs": [
    {
     "name": "stdout",
     "output_type": "stream",
     "text": [
      "F1: 0.9983539094650207\n",
      "Accuracy: 0.9984338292873923\n",
      "Precision: 1.0\n",
      "Recall: 0.9967132292522597\n"
     ]
    }
   ],
   "source": [
    "prediction_precptron_train = preceptron_model.predict(X_train_feature)\n",
    "accuracy_preceptron_train = f1_score(y_train,prediction_precptron_train)\n",
    "scores = {\n",
    "    \"F1\": f1_score(y_train,prediction_precptron_train),\n",
    "    \"Accuracy\": accuracy_score(y_train,prediction_precptron_train),\n",
    "    \"Precision\": precision_score(y_train,prediction_precptron_train),\n",
    "    \"Recall\": recall_score(y_train,prediction_precptron_train)\n",
    "}\n",
    "# Print the evaluation scores\n",
    "for metric, score in scores.items():\n",
    "    print(f\"{metric}: {score}\")"
   ]
  },
  {
   "attachments": {},
   "cell_type": "markdown",
   "metadata": {},
   "source": [
    "Prediction on Testing Data Preceptron Algo"
   ]
  },
  {
   "cell_type": "code",
   "execution_count": 103,
   "metadata": {},
   "outputs": [
    {
     "name": "stdout",
     "output_type": "stream",
     "text": [
      "F1: 0.897370653095844\n",
      "Accuracy: 0.9038155802861685\n",
      "Precision: 0.9058219178082192\n",
      "Recall: 0.8890756302521008\n"
     ]
    }
   ],
   "source": [
    "prediction_precptron_test = preceptron_model.predict(X_test_feature)\n",
    "accuracy_preceptron_test = f1_score(y_test,prediction_precptron_test)\n",
    "scores = {\n",
    "    \"F1\": f1_score(y_test,prediction_precptron_test),\n",
    "    \"Accuracy\": accuracy_score(y_test,prediction_precptron_test),\n",
    "    \"Precision\": precision_score(y_test,prediction_precptron_test),\n",
    "    \"Recall\": recall_score(y_test,prediction_precptron_test)\n",
    "}\n",
    "# Print the evaluation scores\n",
    "for metric, score in scores.items():\n",
    "    print(f\"{metric}: {score}\")"
   ]
  },
  {
   "attachments": {},
   "cell_type": "markdown",
   "metadata": {},
   "source": [
    "# 10 Fold Validation Approach"
   ]
  },
  {
   "attachments": {},
   "cell_type": "markdown",
   "metadata": {},
   "source": [
    "SVC"
   ]
  },
  {
   "cell_type": "code",
   "execution_count": 104,
   "metadata": {},
   "outputs": [
    {
     "name": "stdout",
     "output_type": "stream",
     "text": [
      "Fold 1:\n",
      "Accuracy: 0.8650793650793651\n",
      "Precision: 0.9555555555555556\n",
      "Recall: 0.7413793103448276\n",
      "F1 Score: 0.8349514563106797\n",
      "\n",
      "Fold 2:\n",
      "Accuracy: 0.8888888888888888\n",
      "Precision: 0.9148936170212766\n",
      "Recall: 0.8113207547169812\n",
      "F1 Score: 0.8600000000000001\n",
      "\n",
      "Fold 3:\n",
      "Accuracy: 0.8888888888888888\n",
      "Precision: 0.9827586206896551\n",
      "Recall: 0.8142857142857143\n",
      "F1 Score: 0.8906250000000001\n",
      "\n",
      "Fold 4:\n",
      "Accuracy: 0.8650793650793651\n",
      "Precision: 0.9787234042553191\n",
      "Recall: 0.7419354838709677\n",
      "F1 Score: 0.8440366972477064\n",
      "\n",
      "Fold 5:\n",
      "Accuracy: 0.8968253968253969\n",
      "Precision: 0.9591836734693877\n",
      "Recall: 0.8103448275862069\n",
      "F1 Score: 0.8785046728971961\n",
      "\n",
      "Fold 6:\n",
      "Accuracy: 0.8650793650793651\n",
      "Precision: 0.9795918367346939\n",
      "Recall: 0.75\n",
      "F1 Score: 0.8495575221238937\n",
      "\n",
      "Fold 7:\n",
      "Accuracy: 0.8571428571428571\n",
      "Precision: 0.9215686274509803\n",
      "Recall: 0.7704918032786885\n",
      "F1 Score: 0.8392857142857142\n",
      "\n",
      "Fold 8:\n",
      "Accuracy: 0.8650793650793651\n",
      "Precision: 0.9111111111111111\n",
      "Recall: 0.7592592592592593\n",
      "F1 Score: 0.8282828282828282\n",
      "\n",
      "Fold 9:\n",
      "Accuracy: 0.904\n",
      "Precision: 0.9454545454545454\n",
      "Recall: 0.8524590163934426\n",
      "F1 Score: 0.8965517241379309\n",
      "\n",
      "Fold 10:\n",
      "Accuracy: 0.888\n",
      "Precision: 0.9347826086956522\n",
      "Recall: 0.7962962962962963\n",
      "F1 Score: 0.8599999999999999\n",
      "\n",
      "Mean Accuracy: 0.8784063492063492\n",
      "Mean Precision: 0.9483623600438177\n",
      "Mean Recall: 0.7847772466032386\n",
      "Mean F1 Score: 0.8581795615285948\n"
     ]
    }
   ],
   "source": [
    "\n",
    "# Assuming you have your features X and labels y ready\n",
    "k = 10  # Number of folds\n",
    "\n",
    "# Create an instance of the k-fold cross-validator\n",
    "kfold = KFold(n_splits=k, shuffle=True, random_state=42)\n",
    "\n",
    "# Create an instance of your classifier\n",
    "classifier = SVC()  # Replace with your desired algorithm\n",
    "\n",
    "# Define the evaluation measures\n",
    "scoring = {\n",
    "    'accuracy': make_scorer(accuracy_score),\n",
    "    'precision': make_scorer(precision_score),\n",
    "    'recall': make_scorer(recall_score),\n",
    "    'f1': make_scorer(f1_score)\n",
    "}\n",
    "\n",
    "# Perform cross-validation\n",
    "results = cross_validate(classifier, X_test_feature, y_test, cv=kfold, scoring=scoring)\n",
    "\n",
    "# Print the evaluation scores for each fold\n",
    "for i in range(k):\n",
    "    print(f\"Fold {i+1}:\")\n",
    "    print(f\"Accuracy: {results['test_accuracy'][i]}\")\n",
    "    print(f\"Precision: {results['test_precision'][i]}\")\n",
    "    print(f\"Recall: {results['test_recall'][i]}\")\n",
    "    print(f\"F1 Score: {results['test_f1'][i]}\")\n",
    "    print()\n",
    "\n",
    "# Calculate and print the mean evaluation scores\n",
    "mean_accuracy = results['test_accuracy'].mean()\n",
    "mean_precision = results['test_precision'].mean()\n",
    "mean_recall = results['test_recall'].mean()\n",
    "mean_f1 = results['test_f1'].mean()\n",
    "\n",
    "print(f\"Mean Accuracy: {mean_accuracy}\")\n",
    "print(f\"Mean Precision: {mean_precision}\")\n",
    "print(f\"Mean Recall: {mean_recall}\")\n",
    "print(f\"Mean F1 Score: {mean_f1}\")"
   ]
  },
  {
   "attachments": {},
   "cell_type": "markdown",
   "metadata": {},
   "source": [
    "KNN"
   ]
  },
  {
   "cell_type": "code",
   "execution_count": 105,
   "metadata": {},
   "outputs": [
    {
     "name": "stdout",
     "output_type": "stream",
     "text": [
      "Fold 1:\n",
      "Accuracy: 0.6428571428571429\n",
      "Precision: 0.6226415094339622\n",
      "Recall: 0.5689655172413793\n",
      "F1 Score: 0.5945945945945946\n",
      "\n",
      "Fold 2:\n",
      "Accuracy: 0.5714285714285714\n",
      "Precision: 0.4918032786885246\n",
      "Recall: 0.5660377358490566\n",
      "F1 Score: 0.5263157894736842\n",
      "\n",
      "Fold 3:\n",
      "Accuracy: 0.5714285714285714\n",
      "Precision: 0.6428571428571429\n",
      "Recall: 0.5142857142857142\n",
      "F1 Score: 0.5714285714285714\n",
      "\n",
      "Fold 4:\n",
      "Accuracy: 0.5396825396825397\n",
      "Precision: 0.5344827586206896\n",
      "Recall: 0.5\n",
      "F1 Score: 0.5166666666666667\n",
      "\n",
      "Fold 5:\n",
      "Accuracy: 0.5396825396825397\n",
      "Precision: 0.5\n",
      "Recall: 0.5\n",
      "F1 Score: 0.5\n",
      "\n",
      "Fold 6:\n",
      "Accuracy: 0.6428571428571429\n",
      "Precision: 0.8275862068965517\n",
      "Recall: 0.375\n",
      "F1 Score: 0.5161290322580646\n",
      "\n",
      "Fold 7:\n",
      "Accuracy: 0.5634920634920635\n",
      "Precision: 0.5384615384615384\n",
      "Recall: 0.6885245901639344\n",
      "F1 Score: 0.6043165467625898\n",
      "\n",
      "Fold 8:\n",
      "Accuracy: 0.626984126984127\n",
      "Precision: 0.5714285714285714\n",
      "Recall: 0.5185185185185185\n",
      "F1 Score: 0.5436893203883496\n",
      "\n",
      "Fold 9:\n",
      "Accuracy: 0.576\n",
      "Precision: 0.5689655172413793\n",
      "Recall: 0.5409836065573771\n",
      "F1 Score: 0.5546218487394958\n",
      "\n",
      "Fold 10:\n",
      "Accuracy: 0.576\n",
      "Precision: 0.5116279069767442\n",
      "Recall: 0.4074074074074074\n",
      "F1 Score: 0.4536082474226804\n",
      "\n",
      "Mean Accuracy: 0.5850412698412698\n",
      "Mean Precision: 0.5809854430605104\n",
      "Mean Recall: 0.5179723090023388\n",
      "Mean F1 Score: 0.5381370617734698\n"
     ]
    }
   ],
   "source": [
    "\n",
    "# Assuming you have your features X and labels y ready\n",
    "k = 10  # Number of folds\n",
    "\n",
    "# Create an instance of the k-fold cross-validator\n",
    "kfold = KFold(n_splits=k, shuffle=True, random_state=42)\n",
    "\n",
    "# Create an instance of your classifier\n",
    "classifier = KNeighborsClassifier()  # Replace with your desired algorithm\n",
    "\n",
    "# Define the evaluation measures\n",
    "scoring = {\n",
    "    'accuracy': make_scorer(accuracy_score),\n",
    "    'precision': make_scorer(precision_score),\n",
    "    'recall': make_scorer(recall_score),\n",
    "    'f1': make_scorer(f1_score)\n",
    "}\n",
    "\n",
    "# Perform cross-validation\n",
    "results = cross_validate(classifier, X_test_feature, y_test, cv=kfold, scoring=scoring)\n",
    "\n",
    "# Print the evaluation scores for each fold\n",
    "for i in range(k):\n",
    "    print(f\"Fold {i+1}:\")\n",
    "    print(f\"Accuracy: {results['test_accuracy'][i]}\")\n",
    "    print(f\"Precision: {results['test_precision'][i]}\")\n",
    "    print(f\"Recall: {results['test_recall'][i]}\")\n",
    "    print(f\"F1 Score: {results['test_f1'][i]}\")\n",
    "    print()\n",
    "\n",
    "# Calculate and print the mean evaluation scores\n",
    "mean_accuracy = results['test_accuracy'].mean()\n",
    "mean_precision = results['test_precision'].mean()\n",
    "mean_recall = results['test_recall'].mean()\n",
    "mean_f1 = results['test_f1'].mean()\n",
    "\n",
    "print(f\"Mean Accuracy: {mean_accuracy}\")\n",
    "print(f\"Mean Precision: {mean_precision}\")\n",
    "print(f\"Mean Recall: {mean_recall}\")\n",
    "print(f\"Mean F1 Score: {mean_f1}\")"
   ]
  },
  {
   "attachments": {},
   "cell_type": "markdown",
   "metadata": {},
   "source": [
    "AdaBoostClassifier"
   ]
  },
  {
   "cell_type": "code",
   "execution_count": 106,
   "metadata": {},
   "outputs": [
    {
     "name": "stdout",
     "output_type": "stream",
     "text": [
      "Fold 1:\n",
      "Accuracy: 0.8571428571428571\n",
      "Precision: 0.9\n",
      "Recall: 0.7758620689655172\n",
      "F1 Score: 0.8333333333333334\n",
      "\n",
      "Fold 2:\n",
      "Accuracy: 0.8809523809523809\n",
      "Precision: 0.8958333333333334\n",
      "Recall: 0.8113207547169812\n",
      "F1 Score: 0.8514851485148515\n",
      "\n",
      "Fold 3:\n",
      "Accuracy: 0.8492063492063492\n",
      "Precision: 0.9180327868852459\n",
      "Recall: 0.8\n",
      "F1 Score: 0.8549618320610688\n",
      "\n",
      "Fold 4:\n",
      "Accuracy: 0.8412698412698413\n",
      "Precision: 0.92\n",
      "Recall: 0.7419354838709677\n",
      "F1 Score: 0.8214285714285714\n",
      "\n",
      "Fold 5:\n",
      "Accuracy: 0.8412698412698413\n",
      "Precision: 0.8653846153846154\n",
      "Recall: 0.7758620689655172\n",
      "F1 Score: 0.8181818181818181\n",
      "\n",
      "Fold 6:\n",
      "Accuracy: 0.8253968253968254\n",
      "Precision: 0.85\n",
      "Recall: 0.796875\n",
      "F1 Score: 0.8225806451612903\n",
      "\n",
      "Fold 7:\n",
      "Accuracy: 0.9047619047619048\n",
      "Precision: 0.9298245614035088\n",
      "Recall: 0.8688524590163934\n",
      "F1 Score: 0.8983050847457625\n",
      "\n",
      "Fold 8:\n",
      "Accuracy: 0.8492063492063492\n",
      "Precision: 0.8431372549019608\n",
      "Recall: 0.7962962962962963\n",
      "F1 Score: 0.8190476190476189\n",
      "\n",
      "Fold 9:\n",
      "Accuracy: 0.848\n",
      "Precision: 0.875\n",
      "Recall: 0.8032786885245902\n",
      "F1 Score: 0.8376068376068376\n",
      "\n",
      "Fold 10:\n",
      "Accuracy: 0.84\n",
      "Precision: 0.8541666666666666\n",
      "Recall: 0.7592592592592593\n",
      "F1 Score: 0.8039215686274509\n",
      "\n",
      "Mean Accuracy: 0.853720634920635\n",
      "Mean Precision: 0.885137921857533\n",
      "Mean Recall: 0.7929542079615522\n",
      "Mean F1 Score: 0.8360852458708603\n"
     ]
    }
   ],
   "source": [
    "\n",
    "# Assuming you have your features X and labels y ready\n",
    "k = 10  # Number of folds\n",
    "\n",
    "# Create an instance of the k-fold cross-validator\n",
    "kfold = KFold(n_splits=k, shuffle=True, random_state=42)\n",
    "\n",
    "# Create an instance of your classifier\n",
    "classifier = AdaBoostClassifier()  # Replace with your desired algorithm\n",
    "\n",
    "# Define the evaluation measures\n",
    "scoring = {\n",
    "    'accuracy': make_scorer(accuracy_score),\n",
    "    'precision': make_scorer(precision_score),\n",
    "    'recall': make_scorer(recall_score),\n",
    "    'f1': make_scorer(f1_score)\n",
    "}\n",
    "\n",
    "# Perform cross-validation\n",
    "results = cross_validate(classifier, X_test_feature, y_test, cv=kfold, scoring=scoring)\n",
    "\n",
    "# Print the evaluation scores for each fold\n",
    "for i in range(k):\n",
    "    print(f\"Fold {i+1}:\")\n",
    "    print(f\"Accuracy: {results['test_accuracy'][i]}\")\n",
    "    print(f\"Precision: {results['test_precision'][i]}\")\n",
    "    print(f\"Recall: {results['test_recall'][i]}\")\n",
    "    print(f\"F1 Score: {results['test_f1'][i]}\")\n",
    "    print()\n",
    "\n",
    "# Calculate and print the mean evaluation scores\n",
    "mean_accuracy = results['test_accuracy'].mean()\n",
    "mean_precision = results['test_precision'].mean()\n",
    "mean_recall = results['test_recall'].mean()\n",
    "mean_f1 = results['test_f1'].mean()\n",
    "\n",
    "print(f\"Mean Accuracy: {mean_accuracy}\")\n",
    "print(f\"Mean Precision: {mean_precision}\")\n",
    "print(f\"Mean Recall: {mean_recall}\")\n",
    "print(f\"Mean F1 Score: {mean_f1}\")"
   ]
  },
  {
   "attachments": {},
   "cell_type": "markdown",
   "metadata": {},
   "source": [
    "Logistic Regression"
   ]
  },
  {
   "cell_type": "code",
   "execution_count": 107,
   "metadata": {},
   "outputs": [
    {
     "name": "stdout",
     "output_type": "stream",
     "text": [
      "Fold 1:\n",
      "Accuracy: 0.873015873015873\n",
      "Precision: 0.9375\n",
      "Recall: 0.7758620689655172\n",
      "F1 Score: 0.8490566037735848\n",
      "\n",
      "Fold 2:\n",
      "Accuracy: 0.8968253968253969\n",
      "Precision: 0.9\n",
      "Recall: 0.8490566037735849\n",
      "F1 Score: 0.8737864077669903\n",
      "\n",
      "Fold 3:\n",
      "Accuracy: 0.8809523809523809\n",
      "Precision: 0.9661016949152542\n",
      "Recall: 0.8142857142857143\n",
      "F1 Score: 0.8837209302325583\n",
      "\n",
      "Fold 4:\n",
      "Accuracy: 0.8809523809523809\n",
      "Precision: 0.9795918367346939\n",
      "Recall: 0.7741935483870968\n",
      "F1 Score: 0.8648648648648648\n",
      "\n",
      "Fold 5:\n",
      "Accuracy: 0.873015873015873\n",
      "Precision: 0.92\n",
      "Recall: 0.7931034482758621\n",
      "F1 Score: 0.851851851851852\n",
      "\n",
      "Fold 6:\n",
      "Accuracy: 0.8809523809523809\n",
      "Precision: 1.0\n",
      "Recall: 0.765625\n",
      "F1 Score: 0.8672566371681416\n",
      "\n",
      "Fold 7:\n",
      "Accuracy: 0.8968253968253969\n",
      "Precision: 0.98\n",
      "Recall: 0.8032786885245902\n",
      "F1 Score: 0.882882882882883\n",
      "\n",
      "Fold 8:\n",
      "Accuracy: 0.8650793650793651\n",
      "Precision: 0.8936170212765957\n",
      "Recall: 0.7777777777777778\n",
      "F1 Score: 0.8316831683168316\n",
      "\n",
      "Fold 9:\n",
      "Accuracy: 0.92\n",
      "Precision: 0.9473684210526315\n",
      "Recall: 0.8852459016393442\n",
      "F1 Score: 0.9152542372881356\n",
      "\n",
      "Fold 10:\n",
      "Accuracy: 0.92\n",
      "Precision: 0.94\n",
      "Recall: 0.8703703703703703\n",
      "F1 Score: 0.9038461538461539\n",
      "\n",
      "Mean Accuracy: 0.8887619047619048\n",
      "Mean Precision: 0.9464178973979175\n",
      "Mean Recall: 0.8108799121999859\n",
      "Mean F1 Score: 0.8724203737991998\n"
     ]
    }
   ],
   "source": [
    "\n",
    "# Assuming you have your features X and labels y ready\n",
    "k = 10  # Number of folds\n",
    "\n",
    "# Create an instance of the k-fold cross-validator\n",
    "kfold = KFold(n_splits=k, shuffle=True, random_state=42)\n",
    "\n",
    "# Create an instance of your classifier\n",
    "classifier = LogisticRegression()  # Replace with your desired algorithm\n",
    "\n",
    "# Define the evaluation measures\n",
    "scoring = {\n",
    "    'accuracy': make_scorer(accuracy_score),\n",
    "    'precision': make_scorer(precision_score),\n",
    "    'recall': make_scorer(recall_score),\n",
    "    'f1': make_scorer(f1_score)\n",
    "}\n",
    "\n",
    "# Perform cross-validation\n",
    "results = cross_validate(classifier, X_test_feature, y_test, cv=kfold, scoring=scoring)\n",
    "\n",
    "# Print the evaluation scores for each fold\n",
    "for i in range(k):\n",
    "    print(f\"Fold {i+1}:\")\n",
    "    print(f\"Accuracy: {results['test_accuracy'][i]}\")\n",
    "    print(f\"Precision: {results['test_precision'][i]}\")\n",
    "    print(f\"Recall: {results['test_recall'][i]}\")\n",
    "    print(f\"F1 Score: {results['test_f1'][i]}\")\n",
    "    print()\n",
    "\n",
    "# Calculate and print the mean evaluation scores\n",
    "mean_accuracy = results['test_accuracy'].mean()\n",
    "mean_precision = results['test_precision'].mean()\n",
    "mean_recall = results['test_recall'].mean()\n",
    "mean_f1 = results['test_f1'].mean()\n",
    "\n",
    "print(f\"Mean Accuracy: {mean_accuracy}\")\n",
    "print(f\"Mean Precision: {mean_precision}\")\n",
    "print(f\"Mean Recall: {mean_recall}\")\n",
    "print(f\"Mean F1 Score: {mean_f1}\")"
   ]
  },
  {
   "attachments": {},
   "cell_type": "markdown",
   "metadata": {},
   "source": [
    "Naive Bayas"
   ]
  },
  {
   "cell_type": "code",
   "execution_count": 108,
   "metadata": {},
   "outputs": [
    {
     "name": "stdout",
     "output_type": "stream",
     "text": [
      "Fold 1:\n",
      "Accuracy: 0.873015873015873\n",
      "Precision: 0.875\n",
      "Recall: 0.8448275862068966\n",
      "F1 Score: 0.8596491228070176\n",
      "\n",
      "Fold 2:\n",
      "Accuracy: 0.9206349206349206\n",
      "Precision: 0.8909090909090909\n",
      "Recall: 0.9245283018867925\n",
      "F1 Score: 0.9074074074074073\n",
      "\n",
      "Fold 3:\n",
      "Accuracy: 0.9285714285714286\n",
      "Precision: 0.9841269841269841\n",
      "Recall: 0.8857142857142857\n",
      "F1 Score: 0.9323308270676691\n",
      "\n",
      "Fold 4:\n",
      "Accuracy: 0.9047619047619048\n",
      "Precision: 0.9310344827586207\n",
      "Recall: 0.8709677419354839\n",
      "F1 Score: 0.9\n",
      "\n",
      "Fold 5:\n",
      "Accuracy: 0.9126984126984127\n",
      "Precision: 0.9122807017543859\n",
      "Recall: 0.896551724137931\n",
      "F1 Score: 0.9043478260869565\n",
      "\n",
      "Fold 6:\n",
      "Accuracy: 0.9126984126984127\n",
      "Precision: 0.9491525423728814\n",
      "Recall: 0.875\n",
      "F1 Score: 0.9105691056910569\n",
      "\n",
      "Fold 7:\n",
      "Accuracy: 0.9206349206349206\n",
      "Precision: 0.9473684210526315\n",
      "Recall: 0.8852459016393442\n",
      "F1 Score: 0.9152542372881356\n",
      "\n",
      "Fold 8:\n",
      "Accuracy: 0.8888888888888888\n",
      "Precision: 0.8571428571428571\n",
      "Recall: 0.8888888888888888\n",
      "F1 Score: 0.8727272727272727\n",
      "\n",
      "Fold 9:\n",
      "Accuracy: 0.912\n",
      "Precision: 0.890625\n",
      "Recall: 0.9344262295081968\n",
      "F1 Score: 0.9120000000000001\n",
      "\n",
      "Fold 10:\n",
      "Accuracy: 0.92\n",
      "Precision: 0.8928571428571429\n",
      "Recall: 0.9259259259259259\n",
      "F1 Score: 0.9090909090909091\n",
      "\n",
      "Mean Accuracy: 0.9093904761904762\n",
      "Mean Precision: 0.9130497222974594\n",
      "Mean Recall: 0.8932076585843746\n",
      "Mean F1 Score: 0.9023376708166426\n"
     ]
    }
   ],
   "source": [
    "\n",
    "# Assuming you have your features X and labels y ready\n",
    "k = 10  # Number of folds\n",
    "\n",
    "# Create an instance of the k-fold cross-validator\n",
    "kfold = KFold(n_splits=k, shuffle=True, random_state=42)\n",
    "\n",
    "# Create an instance of your classifier\n",
    "classifier = MultinomialNB()  # Replace with your desired algorithm\n",
    "\n",
    "# Define the evaluation measures\n",
    "scoring = {\n",
    "    'accuracy': make_scorer(accuracy_score),\n",
    "    'precision': make_scorer(precision_score),\n",
    "    'recall': make_scorer(recall_score),\n",
    "    'f1': make_scorer(f1_score)\n",
    "}\n",
    "\n",
    "# Perform cross-validation\n",
    "results = cross_validate(classifier, X_test_feature, y_test, cv=kfold, scoring=scoring)\n",
    "\n",
    "# Print the evaluation scores for each fold\n",
    "for i in range(k):\n",
    "    print(f\"Fold {i+1}:\")\n",
    "    print(f\"Accuracy: {results['test_accuracy'][i]}\")\n",
    "    print(f\"Precision: {results['test_precision'][i]}\")\n",
    "    print(f\"Recall: {results['test_recall'][i]}\")\n",
    "    print(f\"F1 Score: {results['test_f1'][i]}\")\n",
    "    print()\n",
    "\n",
    "# Calculate and print the mean evaluation scores\n",
    "mean_accuracy = results['test_accuracy'].mean()\n",
    "mean_precision = results['test_precision'].mean()\n",
    "mean_recall = results['test_recall'].mean()\n",
    "mean_f1 = results['test_f1'].mean()\n",
    "\n",
    "print(f\"Mean Accuracy: {mean_accuracy}\")\n",
    "print(f\"Mean Precision: {mean_precision}\")\n",
    "print(f\"Mean Recall: {mean_recall}\")\n",
    "print(f\"Mean F1 Score: {mean_f1}\")"
   ]
  },
  {
   "attachments": {},
   "cell_type": "markdown",
   "metadata": {},
   "source": [
    "Random Forest"
   ]
  },
  {
   "cell_type": "code",
   "execution_count": 109,
   "metadata": {},
   "outputs": [
    {
     "name": "stdout",
     "output_type": "stream",
     "text": [
      "Fold 1:\n",
      "Accuracy: 0.9126984126984127\n",
      "Precision: 0.9795918367346939\n",
      "Recall: 0.8275862068965517\n",
      "F1 Score: 0.897196261682243\n",
      "\n",
      "Fold 2:\n",
      "Accuracy: 0.9206349206349206\n",
      "Precision: 0.8909090909090909\n",
      "Recall: 0.9245283018867925\n",
      "F1 Score: 0.9074074074074073\n",
      "\n",
      "Fold 3:\n",
      "Accuracy: 0.8888888888888888\n",
      "Precision: 0.9516129032258065\n",
      "Recall: 0.8428571428571429\n",
      "F1 Score: 0.8939393939393939\n",
      "\n",
      "Fold 4:\n",
      "Accuracy: 0.8888888888888888\n",
      "Precision: 0.98\n",
      "Recall: 0.7903225806451613\n",
      "F1 Score: 0.8749999999999999\n",
      "\n",
      "Fold 5:\n",
      "Accuracy: 0.8968253968253969\n",
      "Precision: 0.9245283018867925\n",
      "Recall: 0.8448275862068966\n",
      "F1 Score: 0.8828828828828829\n",
      "\n",
      "Fold 6:\n",
      "Accuracy: 0.873015873015873\n",
      "Precision: 1.0\n",
      "Recall: 0.75\n",
      "F1 Score: 0.8571428571428571\n",
      "\n",
      "Fold 7:\n",
      "Accuracy: 0.8888888888888888\n",
      "Precision: 0.8507462686567164\n",
      "Recall: 0.9344262295081968\n",
      "F1 Score: 0.8906250000000001\n",
      "\n",
      "Fold 8:\n",
      "Accuracy: 0.9365079365079365\n",
      "Precision: 0.9423076923076923\n",
      "Recall: 0.9074074074074074\n",
      "F1 Score: 0.9245283018867925\n",
      "\n",
      "Fold 9:\n",
      "Accuracy: 0.92\n",
      "Precision: 0.9180327868852459\n",
      "Recall: 0.9180327868852459\n",
      "F1 Score: 0.9180327868852459\n",
      "\n",
      "Fold 10:\n",
      "Accuracy: 0.936\n",
      "Precision: 0.9791666666666666\n",
      "Recall: 0.8703703703703703\n",
      "F1 Score: 0.9215686274509804\n",
      "\n",
      "Mean Accuracy: 0.9062349206349205\n",
      "Mean Precision: 0.9416895547272703\n",
      "Mean Recall: 0.8610358612663767\n",
      "Mean F1 Score: 0.8968323519277803\n"
     ]
    }
   ],
   "source": [
    "\n",
    "# Assuming you have your features X and labels y ready\n",
    "k = 10  # Number of folds\n",
    "\n",
    "# Create an instance of the k-fold cross-validator\n",
    "kfold = KFold(n_splits=k, shuffle=True, random_state=42)\n",
    "\n",
    "# Create an instance of your classifier\n",
    "classifier = RandomForestClassifier()  # Replace with your desired algorithm\n",
    "\n",
    "# Define the evaluation measures\n",
    "scoring = {\n",
    "    'accuracy': make_scorer(accuracy_score),\n",
    "    'precision': make_scorer(precision_score),\n",
    "    'recall': make_scorer(recall_score),\n",
    "    'f1': make_scorer(f1_score)\n",
    "}\n",
    "\n",
    "# Perform cross-validation\n",
    "results = cross_validate(classifier, X_test_feature, y_test, cv=kfold, scoring=scoring)\n",
    "\n",
    "# Print the evaluation scores for each fold\n",
    "for i in range(k):\n",
    "    print(f\"Fold {i+1}:\")\n",
    "    print(f\"Accuracy: {results['test_accuracy'][i]}\")\n",
    "    print(f\"Precision: {results['test_precision'][i]}\")\n",
    "    print(f\"Recall: {results['test_recall'][i]}\")\n",
    "    print(f\"F1 Score: {results['test_f1'][i]}\")\n",
    "    print()\n",
    "\n",
    "# Calculate and print the mean evaluation scores\n",
    "mean_accuracy = results['test_accuracy'].mean()\n",
    "mean_precision = results['test_precision'].mean()\n",
    "mean_recall = results['test_recall'].mean()\n",
    "mean_f1 = results['test_f1'].mean()\n",
    "\n",
    "print(f\"Mean Accuracy: {mean_accuracy}\")\n",
    "print(f\"Mean Precision: {mean_precision}\")\n",
    "print(f\"Mean Recall: {mean_recall}\")\n",
    "print(f\"Mean F1 Score: {mean_f1}\")"
   ]
  },
  {
   "attachments": {},
   "cell_type": "markdown",
   "metadata": {},
   "source": [
    "Gradient Boosting Classifier"
   ]
  },
  {
   "cell_type": "code",
   "execution_count": 110,
   "metadata": {},
   "outputs": [
    {
     "name": "stdout",
     "output_type": "stream",
     "text": [
      "Fold 1:\n",
      "Accuracy: 0.8888888888888888\n",
      "Precision: 0.9782608695652174\n",
      "Recall: 0.7758620689655172\n",
      "F1 Score: 0.8653846153846154\n",
      "\n",
      "Fold 2:\n",
      "Accuracy: 0.873015873015873\n",
      "Precision: 0.9302325581395349\n",
      "Recall: 0.7547169811320755\n",
      "F1 Score: 0.8333333333333334\n",
      "\n",
      "Fold 3:\n",
      "Accuracy: 0.8650793650793651\n",
      "Precision: 0.9344262295081968\n",
      "Recall: 0.8142857142857143\n",
      "F1 Score: 0.8702290076335878\n",
      "\n",
      "Fold 4:\n",
      "Accuracy: 0.8492063492063492\n",
      "Precision: 0.9215686274509803\n",
      "Recall: 0.7580645161290323\n",
      "F1 Score: 0.831858407079646\n",
      "\n",
      "Fold 5:\n",
      "Accuracy: 0.873015873015873\n",
      "Precision: 0.9565217391304348\n",
      "Recall: 0.7586206896551724\n",
      "F1 Score: 0.8461538461538461\n",
      "\n",
      "Fold 6:\n",
      "Accuracy: 0.8809523809523809\n",
      "Precision: 0.9622641509433962\n",
      "Recall: 0.796875\n",
      "F1 Score: 0.8717948717948717\n",
      "\n",
      "Fold 7:\n",
      "Accuracy: 0.8492063492063492\n",
      "Precision: 0.9565217391304348\n",
      "Recall: 0.7213114754098361\n",
      "F1 Score: 0.822429906542056\n",
      "\n",
      "Fold 8:\n",
      "Accuracy: 0.8809523809523809\n",
      "Precision: 0.8979591836734694\n",
      "Recall: 0.8148148148148148\n",
      "F1 Score: 0.8543689320388349\n",
      "\n",
      "Fold 9:\n",
      "Accuracy: 0.904\n",
      "Precision: 0.9454545454545454\n",
      "Recall: 0.8524590163934426\n",
      "F1 Score: 0.8965517241379309\n",
      "\n",
      "Fold 10:\n",
      "Accuracy: 0.896\n",
      "Precision: 0.9767441860465116\n",
      "Recall: 0.7777777777777778\n",
      "F1 Score: 0.8659793814432991\n",
      "\n",
      "Mean Accuracy: 0.8760317460317462\n",
      "Mean Precision: 0.9459953829042721\n",
      "Mean Recall: 0.7824788054563383\n",
      "Mean F1 Score: 0.8558084025542021\n"
     ]
    }
   ],
   "source": [
    "\n",
    "# Assuming you have your features X and labels y ready\n",
    "k = 10  # Number of folds\n",
    "\n",
    "# Create an instance of the k-fold cross-validator\n",
    "kfold = KFold(n_splits=k, shuffle=True, random_state=42)\n",
    "\n",
    "# Create an instance of your classifier\n",
    "classifier = GradientBoostingClassifier()  # Replace with your desired algorithm\n",
    "\n",
    "# Define the evaluation measures\n",
    "scoring = {\n",
    "    'accuracy': make_scorer(accuracy_score),\n",
    "    'precision': make_scorer(precision_score),\n",
    "    'recall': make_scorer(recall_score),\n",
    "    'f1': make_scorer(f1_score)\n",
    "}\n",
    "\n",
    "# Perform cross-validation\n",
    "results = cross_validate(classifier, X_test_feature, y_test, cv=kfold, scoring=scoring)\n",
    "\n",
    "# Print the evaluation scores for each fold\n",
    "for i in range(k):\n",
    "    print(f\"Fold {i+1}:\")\n",
    "    print(f\"Accuracy: {results['test_accuracy'][i]}\")\n",
    "    print(f\"Precision: {results['test_precision'][i]}\")\n",
    "    print(f\"Recall: {results['test_recall'][i]}\")\n",
    "    print(f\"F1 Score: {results['test_f1'][i]}\")\n",
    "    print()\n",
    "\n",
    "# Calculate and print the mean evaluation scores\n",
    "mean_accuracy = results['test_accuracy'].mean()\n",
    "mean_precision = results['test_precision'].mean()\n",
    "mean_recall = results['test_recall'].mean()\n",
    "mean_f1 = results['test_f1'].mean()\n",
    "\n",
    "print(f\"Mean Accuracy: {mean_accuracy}\")\n",
    "print(f\"Mean Precision: {mean_precision}\")\n",
    "print(f\"Mean Recall: {mean_recall}\")\n",
    "print(f\"Mean F1 Score: {mean_f1}\")"
   ]
  },
  {
   "attachments": {},
   "cell_type": "markdown",
   "metadata": {},
   "source": [
    "Decision Tree"
   ]
  },
  {
   "cell_type": "code",
   "execution_count": 111,
   "metadata": {},
   "outputs": [
    {
     "name": "stdout",
     "output_type": "stream",
     "text": [
      "Fold 1:\n",
      "Accuracy: 0.873015873015873\n",
      "Precision: 0.92\n",
      "Recall: 0.7931034482758621\n",
      "F1 Score: 0.851851851851852\n",
      "\n",
      "Fold 2:\n",
      "Accuracy: 0.8809523809523809\n",
      "Precision: 0.8275862068965517\n",
      "Recall: 0.9056603773584906\n",
      "F1 Score: 0.8648648648648648\n",
      "\n",
      "Fold 3:\n",
      "Accuracy: 0.8412698412698413\n",
      "Precision: 0.8787878787878788\n",
      "Recall: 0.8285714285714286\n",
      "F1 Score: 0.8529411764705883\n",
      "\n",
      "Fold 4:\n",
      "Accuracy: 0.8492063492063492\n",
      "Precision: 0.8771929824561403\n",
      "Recall: 0.8064516129032258\n",
      "F1 Score: 0.8403361344537815\n",
      "\n",
      "Fold 5:\n",
      "Accuracy: 0.873015873015873\n",
      "Precision: 0.8620689655172413\n",
      "Recall: 0.8620689655172413\n",
      "F1 Score: 0.8620689655172413\n",
      "\n",
      "Fold 6:\n",
      "Accuracy: 0.8174603174603174\n",
      "Precision: 0.847457627118644\n",
      "Recall: 0.78125\n",
      "F1 Score: 0.8130081300813008\n",
      "\n",
      "Fold 7:\n",
      "Accuracy: 0.7857142857142857\n",
      "Precision: 0.7428571428571429\n",
      "Recall: 0.8524590163934426\n",
      "F1 Score: 0.7938931297709924\n",
      "\n",
      "Fold 8:\n",
      "Accuracy: 0.8412698412698413\n",
      "Precision: 0.8269230769230769\n",
      "Recall: 0.7962962962962963\n",
      "F1 Score: 0.8113207547169811\n",
      "\n",
      "Fold 9:\n",
      "Accuracy: 0.92\n",
      "Precision: 0.9473684210526315\n",
      "Recall: 0.8852459016393442\n",
      "F1 Score: 0.9152542372881356\n",
      "\n",
      "Fold 10:\n",
      "Accuracy: 0.816\n",
      "Precision: 0.8297872340425532\n",
      "Recall: 0.7222222222222222\n",
      "F1 Score: 0.7722772277227723\n",
      "\n",
      "Mean Accuracy: 0.8497904761904762\n",
      "Mean Precision: 0.8560029535651861\n",
      "Mean Recall: 0.8233329269177553\n",
      "Mean F1 Score: 0.8377816472738511\n"
     ]
    }
   ],
   "source": [
    "\n",
    "# Assuming you have your features X and labels y ready\n",
    "k = 10  # Number of folds\n",
    "\n",
    "# Create an instance of the k-fold cross-validator\n",
    "kfold = KFold(n_splits=k, shuffle=True, random_state=42)\n",
    "\n",
    "# Create an instance of your classifier\n",
    "classifier = DecisionTreeClassifier()  # Replace with your desired algorithm\n",
    "\n",
    "# Define the evaluation measures\n",
    "scoring = {\n",
    "    'accuracy': make_scorer(accuracy_score),\n",
    "    'precision': make_scorer(precision_score),\n",
    "    'recall': make_scorer(recall_score),\n",
    "    'f1': make_scorer(f1_score)\n",
    "}\n",
    "\n",
    "# Perform cross-validation\n",
    "results = cross_validate(classifier, X_test_feature, y_test, cv=kfold, scoring=scoring)\n",
    "\n",
    "# Print the evaluation scores for each fold\n",
    "for i in range(k):\n",
    "    print(f\"Fold {i+1}:\")\n",
    "    print(f\"Accuracy: {results['test_accuracy'][i]}\")\n",
    "    print(f\"Precision: {results['test_precision'][i]}\")\n",
    "    print(f\"Recall: {results['test_recall'][i]}\")\n",
    "    print(f\"F1 Score: {results['test_f1'][i]}\")\n",
    "    print()\n",
    "\n",
    "# Calculate and print the mean evaluation scores\n",
    "mean_accuracy = results['test_accuracy'].mean()\n",
    "mean_precision = results['test_precision'].mean()\n",
    "mean_recall = results['test_recall'].mean()\n",
    "mean_f1 = results['test_f1'].mean()\n",
    "\n",
    "print(f\"Mean Accuracy: {mean_accuracy}\")\n",
    "print(f\"Mean Precision: {mean_precision}\")\n",
    "print(f\"Mean Recall: {mean_recall}\")\n",
    "print(f\"Mean F1 Score: {mean_f1}\")"
   ]
  },
  {
   "attachments": {},
   "cell_type": "markdown",
   "metadata": {},
   "source": [
    "MLP Classifier"
   ]
  },
  {
   "cell_type": "code",
   "execution_count": 112,
   "metadata": {},
   "outputs": [
    {
     "name": "stdout",
     "output_type": "stream",
     "text": [
      "Fold 1:\n",
      "Accuracy: 0.8809523809523809\n",
      "Precision: 0.8771929824561403\n",
      "Recall: 0.8620689655172413\n",
      "F1 Score: 0.8695652173913043\n",
      "\n",
      "Fold 2:\n",
      "Accuracy: 0.8650793650793651\n",
      "Precision: 0.8103448275862069\n",
      "Recall: 0.8867924528301887\n",
      "F1 Score: 0.8468468468468469\n",
      "\n",
      "Fold 3:\n",
      "Accuracy: 0.9126984126984127\n",
      "Precision: 0.9538461538461539\n",
      "Recall: 0.8857142857142857\n",
      "F1 Score: 0.9185185185185185\n",
      "\n",
      "Fold 4:\n",
      "Accuracy: 0.8968253968253969\n",
      "Precision: 0.9454545454545454\n",
      "Recall: 0.8387096774193549\n",
      "F1 Score: 0.8888888888888888\n",
      "\n",
      "Fold 5:\n",
      "Accuracy: 0.8888888888888888\n",
      "Precision: 0.9074074074074074\n",
      "Recall: 0.8448275862068966\n",
      "F1 Score: 0.875\n",
      "\n",
      "Fold 6:\n",
      "Accuracy: 0.8888888888888888\n",
      "Precision: 0.9310344827586207\n",
      "Recall: 0.84375\n",
      "F1 Score: 0.8852459016393444\n",
      "\n",
      "Fold 7:\n",
      "Accuracy: 0.9285714285714286\n",
      "Precision: 0.9482758620689655\n",
      "Recall: 0.9016393442622951\n",
      "F1 Score: 0.9243697478991596\n",
      "\n",
      "Fold 8:\n",
      "Accuracy: 0.8888888888888888\n",
      "Precision: 0.8703703703703703\n",
      "Recall: 0.8703703703703703\n",
      "F1 Score: 0.8703703703703703\n",
      "\n",
      "Fold 9:\n",
      "Accuracy: 0.88\n",
      "Precision: 0.8484848484848485\n",
      "Recall: 0.9180327868852459\n",
      "F1 Score: 0.8818897637795275\n",
      "\n",
      "Fold 10:\n",
      "Accuracy: 0.904\n",
      "Precision: 0.85\n",
      "Recall: 0.9444444444444444\n",
      "F1 Score: 0.8947368421052632\n",
      "\n",
      "Mean Accuracy: 0.8934793650793651\n",
      "Mean Precision: 0.8942411480433258\n",
      "Mean Recall: 0.8796349913650323\n",
      "Mean F1 Score: 0.8855432097439223\n"
     ]
    }
   ],
   "source": [
    "\n",
    "# Assuming you have your features X and labels y ready\n",
    "k = 10  # Number of folds\n",
    "\n",
    "# Create an instance of the k-fold cross-validator\n",
    "kfold = KFold(n_splits=k, shuffle=True, random_state=42)\n",
    "\n",
    "# Create an instance of your classifier\n",
    "classifier = MLPClassifier()  # Replace with your desired algorithm\n",
    "\n",
    "# Define the evaluation measures\n",
    "scoring = {\n",
    "    'accuracy': make_scorer(accuracy_score),\n",
    "    'precision': make_scorer(precision_score),\n",
    "    'recall': make_scorer(recall_score),\n",
    "    'f1': make_scorer(f1_score)\n",
    "}\n",
    "\n",
    "# Perform cross-validation\n",
    "results = cross_validate(classifier, X_test_feature, y_test, cv=kfold, scoring=scoring)\n",
    "\n",
    "# Print the evaluation scores for each fold\n",
    "for i in range(k):\n",
    "    print(f\"Fold {i+1}:\")\n",
    "    print(f\"Accuracy: {results['test_accuracy'][i]}\")\n",
    "    print(f\"Precision: {results['test_precision'][i]}\")\n",
    "    print(f\"Recall: {results['test_recall'][i]}\")\n",
    "    print(f\"F1 Score: {results['test_f1'][i]}\")\n",
    "    print()\n",
    "\n",
    "# Calculate and print the mean evaluation scores\n",
    "mean_accuracy = results['test_accuracy'].mean()\n",
    "mean_precision = results['test_precision'].mean()\n",
    "mean_recall = results['test_recall'].mean()\n",
    "mean_f1 = results['test_f1'].mean()\n",
    "\n",
    "print(f\"Mean Accuracy: {mean_accuracy}\")\n",
    "print(f\"Mean Precision: {mean_precision}\")\n",
    "print(f\"Mean Recall: {mean_recall}\")\n",
    "print(f\"Mean F1 Score: {mean_f1}\")"
   ]
  },
  {
   "attachments": {},
   "cell_type": "markdown",
   "metadata": {},
   "source": [
    "preceptron"
   ]
  },
  {
   "cell_type": "code",
   "execution_count": 113,
   "metadata": {},
   "outputs": [
    {
     "name": "stdout",
     "output_type": "stream",
     "text": [
      "Fold 1:\n",
      "Accuracy: 0.8095238095238095\n",
      "Precision: 0.7741935483870968\n",
      "Recall: 0.8275862068965517\n",
      "F1 Score: 0.7999999999999999\n",
      "\n",
      "Fold 2:\n",
      "Accuracy: 0.8412698412698413\n",
      "Precision: 0.746268656716418\n",
      "Recall: 0.9433962264150944\n",
      "F1 Score: 0.8333333333333333\n",
      "\n",
      "Fold 3:\n",
      "Accuracy: 0.8888888888888888\n",
      "Precision: 0.8888888888888888\n",
      "Recall: 0.9142857142857143\n",
      "F1 Score: 0.9014084507042254\n",
      "\n",
      "Fold 4:\n",
      "Accuracy: 0.8571428571428571\n",
      "Precision: 0.8666666666666667\n",
      "Recall: 0.8387096774193549\n",
      "F1 Score: 0.8524590163934426\n",
      "\n",
      "Fold 5:\n",
      "Accuracy: 0.873015873015873\n",
      "Precision: 0.8620689655172413\n",
      "Recall: 0.8620689655172413\n",
      "F1 Score: 0.8620689655172413\n",
      "\n",
      "Fold 6:\n",
      "Accuracy: 0.873015873015873\n",
      "Precision: 0.8870967741935484\n",
      "Recall: 0.859375\n",
      "F1 Score: 0.8730158730158729\n",
      "\n",
      "Fold 7:\n",
      "Accuracy: 0.8571428571428571\n",
      "Precision: 0.8412698412698413\n",
      "Recall: 0.8688524590163934\n",
      "F1 Score: 0.8548387096774194\n",
      "\n",
      "Fold 8:\n",
      "Accuracy: 0.8333333333333334\n",
      "Precision: 0.7619047619047619\n",
      "Recall: 0.8888888888888888\n",
      "F1 Score: 0.8205128205128205\n",
      "\n",
      "Fold 9:\n",
      "Accuracy: 0.872\n",
      "Precision: 0.835820895522388\n",
      "Recall: 0.9180327868852459\n",
      "F1 Score: 0.875\n",
      "\n",
      "Fold 10:\n",
      "Accuracy: 0.864\n",
      "Precision: 0.8135593220338984\n",
      "Recall: 0.8888888888888888\n",
      "F1 Score: 0.8495575221238938\n",
      "\n",
      "Mean Accuracy: 0.8569333333333334\n",
      "Mean Precision: 0.8277738321100749\n",
      "Mean Recall: 0.8810084814213374\n",
      "Mean F1 Score: 0.852219469127825\n"
     ]
    }
   ],
   "source": [
    "\n",
    "\n",
    "# Assuming you have your features X and labels y ready\n",
    "k = 10  # Number of folds\n",
    "\n",
    "# Create an instance of the k-fold cross-validator\n",
    "kfold = KFold(n_splits=k, shuffle=True, random_state=42)\n",
    "\n",
    "# Create an instance of your classifier\n",
    "classifier = Perceptron()  # Replace with your desired algorithm\n",
    "\n",
    "# Define the evaluation measures\n",
    "scoring = {\n",
    "    'accuracy': make_scorer(accuracy_score),\n",
    "    'precision': make_scorer(precision_score),\n",
    "    'recall': make_scorer(recall_score),\n",
    "    'f1': make_scorer(f1_score)\n",
    "}\n",
    "\n",
    "# Perform cross-validation\n",
    "results = cross_validate(classifier, X_test_feature, y_test, cv=kfold, scoring=scoring)\n",
    "\n",
    "# Print the evaluation scores for each fold\n",
    "for i in range(k):\n",
    "    print(f\"Fold {i+1}:\")\n",
    "    print(f\"Accuracy: {results['test_accuracy'][i]}\")\n",
    "    print(f\"Precision: {results['test_precision'][i]}\")\n",
    "    print(f\"Recall: {results['test_recall'][i]}\")\n",
    "    print(f\"F1 Score: {results['test_f1'][i]}\")\n",
    "    print()\n",
    "\n",
    "# Calculate and print the mean evaluation scores\n",
    "mean_accuracy = results['test_accuracy'].mean()\n",
    "mean_precision = results['test_precision'].mean()\n",
    "mean_recall = results['test_recall'].mean()\n",
    "mean_f1 = results['test_f1'].mean()\n",
    "\n",
    "print(f\"Mean Accuracy: {mean_accuracy}\")\n",
    "print(f\"Mean Precision: {mean_precision}\")\n",
    "print(f\"Mean Recall: {mean_recall}\")\n",
    "print(f\"Mean F1 Score: {mean_f1}\")"
   ]
  },
  {
   "attachments": {},
   "cell_type": "markdown",
   "metadata": {},
   "source": [
    "# Confusion Matrix"
   ]
  },
  {
   "cell_type": "code",
   "execution_count": 114,
   "metadata": {},
   "outputs": [
    {
     "name": "stdout",
     "output_type": "stream",
     "text": [
      "Confusion Matrix for Neural Network Classifier:\n",
      "[[625  38]\n",
      " [ 56 539]]\n",
      "Accuracy for Neural Network Classifier: 0.9252782193958664\n",
      "F1 Score for Neural Network Classifier: 0.9197952218430033\n"
     ]
    },
    {
     "data": {
      "image/png": "[encoded data removed]",
      "text/plain": [
       "<Figure size 800x600 with 1 Axes>"
      ]
     },
     "metadata": {},
     "output_type": "display_data"
    },
    {
     "name": "stdout",
     "output_type": "stream",
     "text": [
      "Confusion Matrix for Naive Bayes:\n",
      "[[629  34]\n",
      " [ 51 544]]\n",
      "Accuracy for Naive Bayes: 0.9324324324324325\n",
      "F1 Score for Naive Bayes: 0.9275362318840579\n"
     ]
    },
    {
     "data": {
      "image/png": "[encoded data removed]",
      "text/plain": [
       "<Figure size 800x600 with 1 Axes>"
      ]
     },
     "metadata": {},
     "output_type": "display_data"
    },
    {
     "name": "stdout",
     "output_type": "stream",
     "text": [
      "Confusion Matrix for SVC:\n",
      "[[634  29]\n",
      " [ 65 530]]\n",
      "Accuracy for SVC: 0.9252782193958664\n",
      "F1 Score for SVC: 0.9185441941074524\n"
     ]
    },
    {
     "data": {
      "image/png": "[encoded data removed]",
      "text/plain": [
       "<Figure size 800x600 with 1 Axes>"
      ]
     },
     "metadata": {},
     "output_type": "display_data"
    },
    {
     "name": "stdout",
     "output_type": "stream",
     "text": [
      "Confusion Matrix for Logistic Regression:\n",
      "[[637  26]\n",
      " [ 67 528]]\n",
      "Accuracy for Logistic Regression: 0.9260731319554849\n",
      "F1 Score for Logistic Regression: 0.9190600522193211\n"
     ]
    },
    {
     "data": {
      "image/png": "[encoded data removed]",
      "text/plain": [
       "<Figure size 800x600 with 1 Axes>"
      ]
     },
     "metadata": {},
     "output_type": "display_data"
    },
    {
     "name": "stdout",
     "output_type": "stream",
     "text": [
      "Confusion Matrix for Random Forest Classifier:\n",
      "[[602  61]\n",
      " [ 37 558]]\n",
      "Accuracy for Random Forest Classifier: 0.9220985691573926\n",
      "F1 Score for Random Forest Classifier: 0.9192751235584844\n"
     ]
    },
    {
     "data": {
      "image/png": "[encoded data removed]",
      "text/plain": [
       "<Figure size 800x600 with 1 Axes>"
      ]
     },
     "metadata": {},
     "output_type": "display_data"
    },
    {
     "name": "stdout",
     "output_type": "stream",
     "text": [
      "Confusion Matrix for Gradient Boosting Classifier:\n",
      "[[631  32]\n",
      " [126 469]]\n",
      "Accuracy for Gradient Boosting Classifier: 0.8744038155802861\n",
      "F1 Score for Gradient Boosting Classifier: 0.8558394160583942\n"
     ]
    },
    {
     "data": {
      "image/png": "[encoded data removed]",
      "text/plain": [
       "<Figure size 800x600 with 1 Axes>"
      ]
     },
     "metadata": {},
     "output_type": "display_data"
    },
    {
     "name": "stdout",
     "output_type": "stream",
     "text": [
      "Confusion Matrix for Decision Tree Classifier:\n",
      "[[527 136]\n",
      " [ 58 537]]\n",
      "Accuracy for Decision Tree Classifier: 0.8457869634340223\n",
      "F1 Score for Decision Tree Classifier: 0.8470031545741326\n"
     ]
    },
    {
     "data": {
      "image/png": "[encoded data removed]",
      "text/plain": [
       "<Figure size 800x600 with 1 Axes>"
      ]
     },
     "metadata": {},
     "output_type": "display_data"
    },
    {
     "name": "stdout",
     "output_type": "stream",
     "text": [
      "Confusion Matrix for KNN:\n",
      "[[217 446]\n",
      " [106 489]]\n",
      "Accuracy for KNN: 0.56120826709062\n",
      "F1 Score for KNN: 0.6392156862745098\n"
     ]
    },
    {
     "data": {
      "image/png": "[encoded data removed]",
      "text/plain": [
       "<Figure size 800x600 with 1 Axes>"
      ]
     },
     "metadata": {},
     "output_type": "display_data"
    },
    {
     "name": "stdout",
     "output_type": "stream",
     "text": [
      "Confusion Matrix for AdaBoost Classifier:\n",
      "[[614  49]\n",
      " [ 97 498]]\n",
      "Accuracy for AdaBoost Classifier: 0.8839427662957074\n",
      "F1 Score for AdaBoost Classifier: 0.87215411558669\n"
     ]
    },
    {
     "data": {
      "image/png": "[encoded data removed]",
      "text/plain": [
       "<Figure size 800x600 with 1 Axes>"
      ]
     },
     "metadata": {},
     "output_type": "display_data"
    },
    {
     "name": "stdout",
     "output_type": "stream",
     "text": [
      "Confusion Matrix for Perceptron:\n",
      "[[608  55]\n",
      " [ 66 529]]\n",
      "Accuracy for Perceptron: 0.9038155802861685\n",
      "F1 Score for Perceptron: 0.897370653095844\n"
     ]
    },
    {
     "data": {
      "image/png": "[encoded data removed]",
      "text/plain": [
       "<Figure size 800x600 with 1 Axes>"
      ]
     },
     "metadata": {},
     "output_type": "display_data"
    }
   ],
   "source": [
    "\n",
    "\n",
    "def plot_confusion_matrix(model, X_test, y_test, title):\n",
    "    # Make predictions on the test set\n",
    "    y_pred = model.predict(X_test)\n",
    "\n",
    "    # Generate confusion matrix\n",
    "    cm = confusion_matrix(y_test, y_pred)\n",
    "\n",
    "    # Print confusion matrix\n",
    "    print(f\"Confusion Matrix for {title}:\")\n",
    "    print(cm)\n",
    "\n",
    "    # Calculate accuracy\n",
    "    accuracy = accuracy_score(y_test, y_pred)\n",
    "    print(f\"Accuracy for {title}: {accuracy}\")\n",
    "\n",
    "    # Calculate F1 score\n",
    "    f1 = f1_score(y_test, y_pred)\n",
    "    print(f\"F1 Score for {title}: {f1}\")\n",
    "\n",
    "    # Plot confusion matrix\n",
    "    plt.figure(figsize=(8, 6))\n",
    "    sns.heatmap(cm, annot=True, cmap='Greens', fmt='d', cbar=False)\n",
    "    plt.xlabel('Predicted Labels')\n",
    "    plt.ylabel('True Labels')\n",
    "    plt.title(f'Confusion Matrix for {title}')\n",
    "    plt.show()\n",
    "\n",
    "\n",
    "# Define the models\n",
    "models = [\n",
    "    ('Neural Network Classifier', nnc_model),\n",
    "    ('Naive Bayes', nb_model),\n",
    "    ('SVC',svm_model),\n",
    "    ('Logistic Regression',logReg),\n",
    "    ('Random Forest Classifier',rf_model),\n",
    "    ('Gradient Boosting Classifier',gbm_model),\n",
    "    ('Decision Tree Classifier',dt_model),\n",
    "    ('KNN',knn_model),\n",
    "    ('AdaBoost Classifier',abc_model),\n",
    "    ('Perceptron',preceptron_model)\n",
    "]\n",
    "\n",
    "# Iterate through the models and plot the confusion matrices\n",
    "for model_name, model in models:\n",
    "    plot_confusion_matrix(model, X_test_feature, y_test, model_name)\n"
   ]
  },
  {
   "attachments": {},
   "cell_type": "markdown",
   "metadata": {},
   "source": [
    "Application Phase"
   ]
  },
  {
   "cell_type": "code",
   "execution_count": 118,
   "metadata": {},
   "outputs": [
    {
     "name": "stdout",
     "output_type": "stream",
     "text": [
      "Ham email\n"
     ]
    }
   ],
   "source": [
    "\n",
    "input_mail = [\"spread option code change  zhiyang and zhiyun ,  vince told me that london has some trouble to calculate spread option  for correl = 1 , voll = vol 2 . in such a case , the effective volatility becomes  zero , and the option has zero time value .  i have modified the unitcorrpremium ( ) routine to force the code to treat  this situation as a special case . ( it returns the discounted intrinsic value ) .  please incorporate this chang to your code so that it will no longer cause  any  problems that should not happen in the first place .  if you have any questions , please let me know .  zimin  - - - - - - - - - - - - - - - - - - - - - - -  double unitcorrpremium (  double sl ,  double s 2 ,  double strike ,  double r ,  double ql ,  double q 2 ,  double voll ,  double vol 2 ,  double correl ,  double tmat ,  int opttype  )  {  double retval ;  if ( tmat < = 0 . 0 )  return intrinsic ( sl , s 2 , strike , opttype ) ;  / / look right here for the change , only two lines .  if ( ( 1 . 0 - correl ) < tiny &  setup ( sl , s 2 , strike , r , ql , q 2 , voll , vol 2 , correl , tmat ) ;  if ( opttype )  retval = s . disc * gauherint ( ffuncoc ) / sqrtpi ;  else  retval = s . disc * gauherint ( ffuncop ) / sqrtpi ;  return retval ;  }\"]\n",
    "input_datafeature=feature_extraction.transform(input_mail)\n",
    "prediction = nb_model.predict(input_datafeature)\n",
    "if prediction[0]==1:\n",
    "    print('spam email')\n",
    "else: print('Ham email')"
   ]
  },
  {
   "attachments": {},
   "cell_type": "markdown",
   "metadata": {},
   "source": [
    "## Good Performing Algo:\n",
    "## Naive Bayes:\n",
    "Based on the evaluation metrics provided, it seems that the Naive Bayes algorithm performs the best on both the test and train data. It has high accuracy, precision, recall, and F1 score on the test data, indicating its effectiveness in classifying email spam.\n",
    "\n",
    "The Naive Bayes algorithm is known for its simplicity and efficiency in handling text classification tasks like email spam detection. It assumes that the features (words or tokens) are conditionally independent given the class label, which makes it well-suited for modeling text data.\n",
    "\n",
    "Therefore, Naive Bayes would be a good choice for email spam detection based on the given evaluation results. However, it's important to note that the choice of algorithm may also depend on other factors such as the size and characteristics of the dataset, computational resources, and specific requirements of the application."
   ]
  },
  {
   "attachments": {},
   "cell_type": "markdown",
   "metadata": {},
   "source": [
    "## Why other Algo arent Performing good except naive bayes?\n",
    "\n",
    "\n",
    "Other algorithms may not be performing as well as Naive Bayes for email spam detection due to several reasons:\n",
    "\n",
    "## Logistic Regression: \n",
    "Logistic regression assumes a linear relationship between the input features and the output. If the relationship between the features and the target variable is non-linear, logistic regression may struggle to capture complex patterns and may result in lower performance.\n",
    "\n",
    "## SVM (Support Vector Machines): \n",
    "SVMs work well with high-dimensional data and can handle non-linear relationships using kernel functions. However, SVMs may not perform as well if the dataset is imbalanced or if there is overlapping between the classes, which is often the case with email spam detection.\n",
    "\n",
    "## Random Forest: \n",
    "Random Forests are ensemble models that combine multiple decision trees. They generally perform well on a wide range of problems, but for text classification tasks like email spam detection, they may not be as effective as other algorithms that can better handle the unique characteristics of text data.\n",
    "\n",
    "## Gradient Boosting Machines: \n",
    "Gradient boosting algorithms like XGBoost and LightGBM are powerful and can handle complex relationships. However, in this case, the gradient boosting algorithm may be overfitting the training data, resulting in lower performance on the test data.\n",
    "\n",
    "## Decision Tree: \n",
    "Decision trees are prone to overfitting if not properly regularized. It is possible that the decision tree is overfitting the training data, leading to lower performance on the test data.\n",
    "\n",
    "## KNN (K-Nearest Neighbors): \n",
    "KNN relies on the proximity of data points in the feature space. If the feature space is high-dimensional or if the dataset is imbalanced, KNN may not perform well. Additionally, KNN is sensitive to the choice of the k value and distance metrics.\n",
    "\n",
    "## Neural Network Classifier: \n",
    "Neural networks can be powerful models for various tasks, but they require careful tuning of hyperparameters and architecture design. If not properly configured or trained, neural networks can overfit the training data or struggle to generalize well to unseen data.\n",
    "\n",
    "## AdaBoostClassifier: \n",
    "AdaBoost is an ensemble method that combines weak classifiers to form a strong classifier. If the weak classifiers in the ensemble are not diverse or if they individually perform poorly, the overall performance of AdaBoost can be affected.\n",
    "\n",
    "## Perceptron: \n",
    "Perceptron is a simple linear classifier that can struggle with complex patterns and non-linear relationships. If the data has non-linear separability, the perceptron may not be able to accurately classify the instances.\n",
    "\n",
    "## Conclusion\n",
    "In summary, the performance of different algorithms can vary depending on the specific characteristics of the dataset and the task at hand. While Naive Bayes may be performing well for email spam detection due to its simplicity and suitability for text classification, other algorithms may not be as effective due to their limitations in handling non-linear relationships, imbalanced data, high-dimensional feature spaces, or overfitting."
   ]
  }
 ],
 "metadata": {
  "kernelspec": {
   "display_name": "base",
   "language": "python",
   "name": "python3"
  },
  "language_info": {
   "codemirror_mode": {
    "name": "ipython",
    "version": 3
   },
   "file_extension": ".py",
   "mimetype": "text/x-python",
   "name": "python",
   "nbconvert_exporter": "python",
   "pygments_lexer": "ipython3",
   "version": "3.9.13"
  },
  "orig_nbformat": 4
 },
 "nbformat": 4,
 "nbformat_minor": 2
}
